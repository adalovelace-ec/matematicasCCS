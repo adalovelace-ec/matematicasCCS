{
 "cells": [
  {
   "cell_type": "code",
   "execution_count": 8,
   "metadata": {},
   "outputs": [
    {
     "data": {
      "image/png": "[encoded data removed]",
      "text/latex": [
       "$\\displaystyle L$"
      ],
      "text/plain": [
       "L"
      ]
     },
     "metadata": {},
     "output_type": "display_data"
    },
    {
     "data": {
      "text/plain": [
       "'FOC for K:'"
      ]
     },
     "metadata": {},
     "output_type": "display_data"
    },
    {
     "data": {
      "image/png": "[encoded data removed]",
      "text/latex": [
       "$\\displaystyle - r + \\frac{K^{\\alpha} L^{\\beta} \\alpha l_{m}}{K}$"
      ],
      "text/plain": [
       "      α  β     \n",
       "     K ⋅L ⋅α⋅lₘ\n",
       "-r + ──────────\n",
       "         K     "
      ]
     },
     "metadata": {},
     "output_type": "display_data"
    },
    {
     "data": {
      "text/plain": [
       "'FOC for L:'"
      ]
     },
     "metadata": {},
     "output_type": "display_data"
    },
    {
     "data": {
      "image/png": "[encoded data removed]",
      "text/latex": [
       "$\\displaystyle \\frac{K^{\\alpha} L^{\\beta} \\beta l_{m}}{L} - w$"
      ],
      "text/plain": [
       " α  β         \n",
       "K ⋅L ⋅β⋅lₘ    \n",
       "────────── - w\n",
       "    L         "
      ]
     },
     "metadata": {},
     "output_type": "display_data"
    },
    {
     "data": {
      "text/plain": [
       "'FOC for lambda:'"
      ]
     },
     "metadata": {},
     "output_type": "display_data"
    },
    {
     "data": {
      "image/png": "[encoded data removed]",
      "text/latex": [
       "$\\displaystyle K^{\\alpha} L^{\\beta} - q$"
      ],
      "text/plain": [
       " α  β    \n",
       "K ⋅L  - q"
      ]
     },
     "metadata": {},
     "output_type": "display_data"
    },
    {
     "data": {
      "text/plain": [
       "'Solutions:'"
      ]
     },
     "metadata": {},
     "output_type": "display_data"
    },
    {
     "data": {
      "image/png": "[encoded data removed]",
      "text/latex": [
       "$\\displaystyle \\left[ \\left( \\left(q \\left(\\left(\\frac{\\beta q^{\\frac{1}{\\alpha}} r}{\\alpha w}\\right)^{\\frac{\\alpha}{\\alpha + \\beta}}\\right)^{- \\beta}\\right)^{\\frac{1}{\\alpha}}, \\  \\left(\\frac{\\beta q^{\\frac{1}{\\alpha}} r}{\\alpha w}\\right)^{\\frac{\\alpha}{\\alpha + \\beta}}, \\  \\frac{w \\left(\\left(q \\left(\\left(\\frac{\\beta q^{\\frac{1}{\\alpha}} r}{\\alpha w}\\right)^{\\frac{\\alpha}{\\alpha + \\beta}}\\right)^{- \\beta}\\right)^{\\frac{1}{\\alpha}}\\right)^{- \\alpha} \\left(\\left(\\frac{\\beta q^{\\frac{1}{\\alpha}} r}{\\alpha w}\\right)^{\\frac{\\alpha}{\\alpha + \\beta}}\\right)^{1 - \\beta}}{\\beta}\\right)\\right]$"
      ],
      "text/plain": [
       "⎡⎛                                                                             ↪\n",
       "⎢⎜                                                                ____________ ↪\n",
       "⎢⎜                                                               ╱             ↪\n",
       "⎢⎜         ________________________                             ╱    ⎛         ↪\n",
       "⎢⎜        ╱                     -β                             ╱     ⎜         ↪\n",
       "⎢⎜       ╱    ⎛             α  ⎞                  α           ╱      ⎜         ↪\n",
       "⎢⎜      ╱     ⎜           ─────⎟                ─────        ╱       ⎜⎛  α ___ ↪\n",
       "⎢⎜     ╱      ⎜           α + β⎟                α + β       ╱        ⎜⎜β⋅╲╱ q  ↪\n",
       "⎢⎜    ╱       ⎜⎛  α ___  ⎞     ⎟     ⎛  α ___  ⎞       w⋅α ╱       q⋅⎜⎜─────── ↪\n",
       "⎢⎜   ╱        ⎜⎜β⋅╲╱ q ⋅r⎟     ⎟     ⎜β⋅╲╱ q ⋅r⎟         ╲╱          ⎝⎝   α⋅w  ↪\n",
       "⎢⎜α ╱       q⋅⎜⎜─────────⎟     ⎟   , ⎜─────────⎟     , ─────────────────────── ↪\n",
       "⎣⎝╲╱          ⎝⎝   α⋅w   ⎠     ⎠     ⎝   α⋅w   ⎠                               ↪\n",
       "\n",
       "↪             -α                        ⎞⎤\n",
       "↪ ____________                          ⎟⎥\n",
       "↪          -β                      1 - β⎟⎥\n",
       "↪      α  ⎞      ⎛             α  ⎞     ⎟⎥\n",
       "↪    ─────⎟      ⎜           ─────⎟     ⎟⎥\n",
       "↪    α + β⎟      ⎜           α + β⎟     ⎟⎥\n",
       "↪   ⎞     ⎟      ⎜⎛  α ___  ⎞     ⎟     ⎟⎥\n",
       "↪ ⋅r⎟     ⎟      ⎜⎜β⋅╲╱ q ⋅r⎟     ⎟     ⎟⎥\n",
       "↪ ──⎟     ⎟     ⋅⎜⎜─────────⎟     ⎟     ⎟⎥\n",
       "↪   ⎠     ⎠      ⎝⎝   α⋅w   ⎠     ⎠     ⎟⎥\n",
       "↪ ──────────────────────────────────────⎟⎥\n",
       "↪        β                              ⎠⎦"
      ]
     },
     "metadata": {},
     "output_type": "display_data"
    },
    {
     "data": {
      "text/plain": [
       "'Simplified x:'"
      ]
     },
     "metadata": {},
     "output_type": "display_data"
    },
    {
     "data": {
      "image/png": "[encoded data removed]",
      "text/latex": [
       "$\\displaystyle \\left(q \\left(\\left(\\frac{\\beta q^{\\frac{1}{\\alpha}} r}{\\alpha w}\\right)^{\\frac{\\alpha}{\\alpha + \\beta}}\\right)^{- \\beta}\\right)^{\\frac{1}{\\alpha}}$"
      ],
      "text/plain": [
       "         ________________________\n",
       "        ╱                     -β \n",
       "       ╱    ⎛             α  ⎞   \n",
       "      ╱     ⎜           ─────⎟   \n",
       "     ╱      ⎜           α + β⎟   \n",
       "    ╱       ⎜⎛  α ___  ⎞     ⎟   \n",
       "   ╱        ⎜⎜β⋅╲╱ q ⋅r⎟     ⎟   \n",
       "α ╱       q⋅⎜⎜─────────⎟     ⎟   \n",
       "╲╱          ⎝⎝   α⋅w   ⎠     ⎠   "
      ]
     },
     "metadata": {},
     "output_type": "display_data"
    },
    {
     "data": {
      "text/plain": [
       "'Simplified y:'"
      ]
     },
     "metadata": {},
     "output_type": "display_data"
    },
    {
     "data": {
      "image/png": "[encoded data removed]",
      "text/latex": [
       "$\\displaystyle \\left(\\frac{\\beta q^{\\frac{1}{\\alpha}} r}{\\alpha w}\\right)^{\\frac{\\alpha}{\\alpha + \\beta}}$"
      ],
      "text/plain": [
       "             α  \n",
       "           ─────\n",
       "           α + β\n",
       "⎛  α ___  ⎞     \n",
       "⎜β⋅╲╱ q ⋅r⎟     \n",
       "⎜─────────⎟     \n",
       "⎝   α⋅w   ⎠     "
      ]
     },
     "metadata": {},
     "output_type": "display_data"
    },
    {
     "data": {
      "text/plain": [
       "'Simplified h:'"
      ]
     },
     "metadata": {},
     "output_type": "display_data"
    },
    {
     "data": {
      "image/png": "[encoded data removed]",
      "text/latex": [
       "$\\displaystyle \\frac{w \\left(\\left(q \\left(\\left(\\frac{\\beta q^{\\frac{1}{\\alpha}} r}{\\alpha w}\\right)^{\\frac{\\alpha}{\\alpha + \\beta}}\\right)^{- \\beta}\\right)^{\\frac{1}{\\alpha}}\\right)^{- \\alpha} \\left(\\left(\\frac{\\beta q^{\\frac{1}{\\alpha}} r}{\\alpha w}\\right)^{\\frac{\\alpha}{\\alpha + \\beta}}\\right)^{1 - \\beta}}{\\beta}$"
      ],
      "text/plain": [
       "                                   -α                        \n",
       "           ________________________                          \n",
       "          ╱                     -β                      1 - β\n",
       "         ╱    ⎛             α  ⎞      ⎛             α  ⎞     \n",
       "        ╱     ⎜           ─────⎟      ⎜           ─────⎟     \n",
       "       ╱      ⎜           α + β⎟      ⎜           α + β⎟     \n",
       "      ╱       ⎜⎛  α ___  ⎞     ⎟      ⎜⎛  α ___  ⎞     ⎟     \n",
       "     ╱        ⎜⎜β⋅╲╱ q ⋅r⎟     ⎟      ⎜⎜β⋅╲╱ q ⋅r⎟     ⎟     \n",
       "w⋅α ╱       q⋅⎜⎜─────────⎟     ⎟     ⋅⎜⎜─────────⎟     ⎟     \n",
       "  ╲╱          ⎝⎝   α⋅w   ⎠     ⎠      ⎝⎝   α⋅w   ⎠     ⎠     \n",
       "─────────────────────────────────────────────────────────────\n",
       "                              β                              "
      ]
     },
     "metadata": {},
     "output_type": "display_data"
    }
   ],
   "source": [
    "from sympy import symbols, diff, Eq, solve, simplify, init_printing\n",
    "\n",
    "\n",
    "# Initialize pretty printing\n",
    "init_printing(use_unicode=True)\n",
    "\n",
    "# Define symbols (variables)\n",
    "L, K, alpha, beta, r, w, q, l_m = symbols('L K alpha beta r w q l_m')\n",
    "\n",
    "# Define the production function\n",
    "f = (L**beta)*(K**alpha)\n",
    "\n",
    "#define the Lagrangian\n",
    "La = -r*K-w*L+ l_m*(f-q)\n",
    "display(L)\n",
    "\n",
    "# First order conditions\n",
    "foc_K = diff(La, K)\n",
    "foc_L = diff(La, L)\n",
    "foc_l_m = diff(La, l_m)\n",
    "\n",
    "display(\"FOC for K:\", foc_K)\n",
    "display(\"FOC for L:\", foc_L)\n",
    "display(\"FOC for lambda:\", foc_l_m)\n",
    "\n",
    "\n",
    "\n",
    "# Solve the system foc_K = 0, foc_L = 0, foc_l_m = 0\n",
    "solutions = solve([Eq(foc_K, 0), Eq(foc_L, 0), Eq(foc_l_m, 0)], (K, L, l_m))\n",
    "\n",
    "# Output the solutions for x, y, and lambda\n",
    "display(\"Solutions:\", solutions)\n",
    "\n",
    "# Optional: simplified versions of the solutions\n",
    "K_o = simplify(solutions[0][0])\n",
    "L_o= simplify(solutions[0][1])\n",
    "lm = simplify(solutions[0][2])\n",
    "\n",
    "display(\"Simplified x:\", K_o)\n",
    "display(\"Simplified y:\", L_o)\n",
    "display(\"Simplified h:\", lm)\n",
    "\n"
   ]
  },
  {
   "cell_type": "code",
   "execution_count": 47,
   "metadata": {},
   "outputs": [
    {
     "data": {
      "text/latex": [
       "$\\displaystyle \\left[\\begin{matrix}0 & K^{\\alpha - 1} L^{\\beta} \\alpha & K^{\\alpha} L^{\\beta - 1} \\beta\\\\K^{\\alpha - 1} L^{\\beta} \\alpha & K^{\\alpha - 2} L^{\\beta} \\alpha l_{m} \\left(\\alpha - 1\\right) & K^{\\alpha - 1} L^{\\beta - 1} \\alpha \\beta l_{m}\\\\K^{\\alpha} L^{\\beta - 1} \\beta & K^{\\alpha - 1} L^{\\beta - 1} \\alpha \\beta l_{m} & K^{\\alpha} L^{\\beta - 2} \\beta l_{m} \\left(\\beta - 1\\right)\\end{matrix}\\right]$"
      ],
      "text/plain": [
       "⎡                   α - 1  β                α  β - 1        ⎤\n",
       "⎢     0            K     ⋅L ⋅α             K ⋅L     ⋅β      ⎥\n",
       "⎢                                                           ⎥\n",
       "⎢ α - 1  β     α - 2  β                 α - 1  β - 1        ⎥\n",
       "⎢K     ⋅L ⋅α  K     ⋅L ⋅α⋅lₘ⋅(α - 1)   K     ⋅L     ⋅α⋅β⋅lₘ ⎥\n",
       "⎢                                                           ⎥\n",
       "⎢ α  β - 1      α - 1  β - 1           α  β - 2             ⎥\n",
       "⎣K ⋅L     ⋅β   K     ⋅L     ⋅α⋅β⋅lₘ   K ⋅L     ⋅β⋅lₘ⋅(β - 1)⎦"
      ]
     },
     "metadata": {},
     "output_type": "display_data"
    },
    {
     "data": {
      "text/latex": [
       "$\\displaystyle \\left[\\begin{matrix}0 & \\alpha \\left(\\left(q \\left(\\left(\\frac{\\beta q^{\\frac{1}{\\alpha}} r}{\\alpha w}\\right)^{\\frac{\\alpha}{\\alpha + \\beta}}\\right)^{- \\beta}\\right)^{\\frac{1}{\\alpha}}\\right)^{\\alpha - 1} \\left(\\left(\\frac{\\beta q^{\\frac{1}{\\alpha}} r}{\\alpha w}\\right)^{\\frac{\\alpha}{\\alpha + \\beta}}\\right)^{\\beta} & \\beta \\left(\\left(q \\left(\\left(\\frac{\\beta q^{\\frac{1}{\\alpha}} r}{\\alpha w}\\right)^{\\frac{\\alpha}{\\alpha + \\beta}}\\right)^{- \\beta}\\right)^{\\frac{1}{\\alpha}}\\right)^{\\alpha} \\left(\\left(\\frac{\\beta q^{\\frac{1}{\\alpha}} r}{\\alpha w}\\right)^{\\frac{\\alpha}{\\alpha + \\beta}}\\right)^{\\beta - 1}\\\\\\alpha \\left(\\left(q \\left(\\left(\\frac{\\beta q^{\\frac{1}{\\alpha}} r}{\\alpha w}\\right)^{\\frac{\\alpha}{\\alpha + \\beta}}\\right)^{- \\beta}\\right)^{\\frac{1}{\\alpha}}\\right)^{\\alpha - 1} \\left(\\left(\\frac{\\beta q^{\\frac{1}{\\alpha}} r}{\\alpha w}\\right)^{\\frac{\\alpha}{\\alpha + \\beta}}\\right)^{\\beta} & \\frac{\\alpha w \\left(\\alpha - 1\\right) \\left(\\left(q \\left(\\left(\\frac{\\beta q^{\\frac{1}{\\alpha}} r}{\\alpha w}\\right)^{\\frac{\\alpha}{\\alpha + \\beta}}\\right)^{- \\beta}\\right)^{\\frac{1}{\\alpha}}\\right)^{- \\alpha} \\left(\\left(q \\left(\\left(\\frac{\\beta q^{\\frac{1}{\\alpha}} r}{\\alpha w}\\right)^{\\frac{\\alpha}{\\alpha + \\beta}}\\right)^{- \\beta}\\right)^{\\frac{1}{\\alpha}}\\right)^{\\alpha - 2} \\left(\\left(\\frac{\\beta q^{\\frac{1}{\\alpha}} r}{\\alpha w}\\right)^{\\frac{\\alpha}{\\alpha + \\beta}}\\right)^{\\beta} \\left(\\left(\\frac{\\beta q^{\\frac{1}{\\alpha}} r}{\\alpha w}\\right)^{\\frac{\\alpha}{\\alpha + \\beta}}\\right)^{1 - \\beta}}{\\beta} & \\alpha w \\left(\\left(q \\left(\\left(\\frac{\\beta q^{\\frac{1}{\\alpha}} r}{\\alpha w}\\right)^{\\frac{\\alpha}{\\alpha + \\beta}}\\right)^{- \\beta}\\right)^{\\frac{1}{\\alpha}}\\right)^{- \\alpha} \\left(\\left(q \\left(\\left(\\frac{\\beta q^{\\frac{1}{\\alpha}} r}{\\alpha w}\\right)^{\\frac{\\alpha}{\\alpha + \\beta}}\\right)^{- \\beta}\\right)^{\\frac{1}{\\alpha}}\\right)^{\\alpha - 1} \\left(\\left(\\frac{\\beta q^{\\frac{1}{\\alpha}} r}{\\alpha w}\\right)^{\\frac{\\alpha}{\\alpha + \\beta}}\\right)^{1 - \\beta} \\left(\\left(\\frac{\\beta q^{\\frac{1}{\\alpha}} r}{\\alpha w}\\right)^{\\frac{\\alpha}{\\alpha + \\beta}}\\right)^{\\beta - 1}\\\\\\beta \\left(\\left(q \\left(\\left(\\frac{\\beta q^{\\frac{1}{\\alpha}} r}{\\alpha w}\\right)^{\\frac{\\alpha}{\\alpha + \\beta}}\\right)^{- \\beta}\\right)^{\\frac{1}{\\alpha}}\\right)^{\\alpha} \\left(\\left(\\frac{\\beta q^{\\frac{1}{\\alpha}} r}{\\alpha w}\\right)^{\\frac{\\alpha}{\\alpha + \\beta}}\\right)^{\\beta - 1} & \\alpha w \\left(\\left(q \\left(\\left(\\frac{\\beta q^{\\frac{1}{\\alpha}} r}{\\alpha w}\\right)^{\\frac{\\alpha}{\\alpha + \\beta}}\\right)^{- \\beta}\\right)^{\\frac{1}{\\alpha}}\\right)^{- \\alpha} \\left(\\left(q \\left(\\left(\\frac{\\beta q^{\\frac{1}{\\alpha}} r}{\\alpha w}\\right)^{\\frac{\\alpha}{\\alpha + \\beta}}\\right)^{- \\beta}\\right)^{\\frac{1}{\\alpha}}\\right)^{\\alpha - 1} \\left(\\left(\\frac{\\beta q^{\\frac{1}{\\alpha}} r}{\\alpha w}\\right)^{\\frac{\\alpha}{\\alpha + \\beta}}\\right)^{1 - \\beta} \\left(\\left(\\frac{\\beta q^{\\frac{1}{\\alpha}} r}{\\alpha w}\\right)^{\\frac{\\alpha}{\\alpha + \\beta}}\\right)^{\\beta - 1} & w \\left(\\beta - 1\\right) \\left(\\left(\\frac{\\beta q^{\\frac{1}{\\alpha}} r}{\\alpha w}\\right)^{\\frac{\\alpha}{\\alpha + \\beta}}\\right)^{1 - \\beta} \\left(\\left(\\frac{\\beta q^{\\frac{1}{\\alpha}} r}{\\alpha w}\\right)^{\\frac{\\alpha}{\\alpha + \\beta}}\\right)^{\\beta - 2}\\end{matrix}\\right]$"
      ],
      "text/plain": [
       "⎡                                                                              ↪\n",
       "⎢                                                                              ↪\n",
       "⎢                                                                              ↪\n",
       "⎢                                                                              ↪\n",
       "⎢                                                                              ↪\n",
       "⎢                                                                              ↪\n",
       "⎢                                                                              ↪\n",
       "⎢                                                                              ↪\n",
       "⎢                             0                                                ↪\n",
       "⎢                                                                              ↪\n",
       "⎢                                                                              ↪\n",
       "⎢                                                                              ↪\n",
       "⎢                                                                              ↪\n",
       "⎢                                   α - 1                                      ↪\n",
       "⎢           ________________________                                           ↪\n",
       "⎢          ╱                     -β                         β                  ↪\n",
       "⎢         ╱    ⎛             α  ⎞         ⎛             α  ⎞                   ↪\n",
       "⎢        ╱     ⎜           ─────⎟         ⎜           ─────⎟                   ↪\n",
       "⎢       ╱      ⎜           α + β⎟         ⎜           α + β⎟                   ↪\n",
       "⎢      ╱       ⎜⎛  α ___  ⎞     ⎟         ⎜⎛  α ___  ⎞     ⎟   α⋅w⋅(α - 1)⋅α ╱ ↪\n",
       "⎢     ╱        ⎜⎜β⋅╲╱ q ⋅r⎟     ⎟         ⎜⎜β⋅╲╱ q ⋅r⎟     ⎟               ╲╱  ↪\n",
       "⎢α⋅α ╱       q⋅⎜⎜─────────⎟     ⎟        ⋅⎜⎜─────────⎟     ⎟   ─────────────── ↪\n",
       "⎢  ╲╱          ⎝⎝   α⋅w   ⎠     ⎠         ⎝⎝   α⋅w   ⎠     ⎠                   ↪\n",
       "⎢                                                                              ↪\n",
       "⎢                                   α                                          ↪\n",
       "⎢           ________________________                                           ↪\n",
       "⎢          ╱                     -β                     β - 1                ╱ ↪\n",
       "⎢         ╱    ⎛             α  ⎞     ⎛             α  ⎞                    ╱  ↪\n",
       "⎢        ╱     ⎜           ─────⎟     ⎜           ─────⎟                   ╱   ↪\n",
       "⎢       ╱      ⎜           α + β⎟     ⎜           α + β⎟                  ╱    ↪\n",
       "⎢      ╱       ⎜⎛  α ___  ⎞     ⎟     ⎜⎛  α ___  ⎞     ⎟                 ╱     ↪\n",
       "⎢     ╱        ⎜⎜β⋅╲╱ q ⋅r⎟     ⎟     ⎜⎜β⋅╲╱ q ⋅r⎟     ⎟                ╱      ↪\n",
       "⎢β⋅α ╱       q⋅⎜⎜─────────⎟     ⎟    ⋅⎜⎜─────────⎟     ⎟         α⋅w⋅α ╱       ↪\n",
       "⎣  ╲╱          ⎝⎝   α⋅w   ⎠     ⎠     ⎝⎝   α⋅w   ⎠     ⎠             ╲╱        ↪\n",
       "\n",
       "↪                                                        α - 1                 ↪\n",
       "↪                                ________________________                      ↪\n",
       "↪                               ╱                     -β                       ↪\n",
       "↪                              ╱    ⎛             α  ⎞         ⎛             α ↪\n",
       "↪                             ╱     ⎜           ─────⎟         ⎜           ─── ↪\n",
       "↪                            ╱      ⎜           α + β⎟         ⎜           α + ↪\n",
       "↪                           ╱       ⎜⎛  α ___  ⎞     ⎟         ⎜⎛  α ___  ⎞    ↪\n",
       "↪                          ╱        ⎜⎜β⋅╲╱ q ⋅r⎟     ⎟         ⎜⎜β⋅╲╱ q ⋅r⎟    ↪\n",
       "↪                     α⋅α ╱       q⋅⎜⎜─────────⎟     ⎟        ⋅⎜⎜─────────⎟    ↪\n",
       "↪                       ╲╱          ⎝⎝   α⋅w   ⎠     ⎠         ⎝⎝   α⋅w   ⎠    ↪\n",
       "↪                                                                              ↪\n",
       "↪                               -α                                  α - 2      ↪\n",
       "↪       ________________________            ________________________           ↪\n",
       "↪      ╱                     -β            ╱                     -β            ↪\n",
       "↪     ╱    ⎛             α  ⎞             ╱    ⎛             α  ⎞         ⎛    ↪\n",
       "↪    ╱     ⎜           ─────⎟            ╱     ⎜           ─────⎟         ⎜    ↪\n",
       "↪   ╱      ⎜           α + β⎟           ╱      ⎜           α + β⎟         ⎜    ↪\n",
       "↪  ╱       ⎜⎛  α ___  ⎞     ⎟          ╱       ⎜⎛  α ___  ⎞     ⎟         ⎜⎛   ↪\n",
       "↪ ╱        ⎜⎜β⋅╲╱ q ⋅r⎟     ⎟         ╱        ⎜⎜β⋅╲╱ q ⋅r⎟     ⎟         ⎜⎜β⋅ ↪\n",
       "↪        q⋅⎜⎜─────────⎟     ⎟     ⋅α ╱       q⋅⎜⎜─────────⎟     ⎟        ⋅⎜⎜── ↪\n",
       "↪          ⎝⎝   α⋅w   ⎠     ⎠      ╲╱          ⎝⎝   α⋅w   ⎠     ⎠         ⎝⎝   ↪\n",
       "↪ ──────────────────────────────────────────────────────────────────────────── ↪\n",
       "↪                                                  β                           ↪\n",
       "↪                                                                              ↪\n",
       "↪                         -α                                  α - 1            ↪\n",
       "↪ ________________________            ________________________                 ↪\n",
       "↪                      -β            ╱                     -β                  ↪\n",
       "↪    ⎛             α  ⎞             ╱    ⎛             α  ⎞         ⎛          ↪\n",
       "↪    ⎜           ─────⎟            ╱     ⎜           ─────⎟         ⎜          ↪\n",
       "↪    ⎜           α + β⎟           ╱      ⎜           α + β⎟         ⎜          ↪\n",
       "↪    ⎜⎛  α ___  ⎞     ⎟          ╱       ⎜⎛  α ___  ⎞     ⎟         ⎜⎛  α ___  ↪\n",
       "↪    ⎜⎜β⋅╲╱ q ⋅r⎟     ⎟         ╱        ⎜⎜β⋅╲╱ q ⋅r⎟     ⎟         ⎜⎜β⋅╲╱ q ⋅ ↪\n",
       "↪  q⋅⎜⎜─────────⎟     ⎟     ⋅α ╱       q⋅⎜⎜─────────⎟     ⎟        ⋅⎜⎜──────── ↪\n",
       "↪    ⎝⎝   α⋅w   ⎠     ⎠      ╲╱          ⎝⎝   α⋅w   ⎠     ⎠         ⎝⎝   α⋅w   ↪\n",
       "\n",
       "↪                                                                              ↪\n",
       "↪                                                                              ↪\n",
       "↪    β                                                                         ↪\n",
       "↪   ⎞                                                                          ↪\n",
       "↪ ──⎟                                                                          ↪\n",
       "↪  β⎟                                                                          ↪\n",
       "↪   ⎟                                                                          ↪\n",
       "↪   ⎟                                                                          ↪\n",
       "↪   ⎟                                                                       β⋅ ↪\n",
       "↪   ⎠                                                                          ↪\n",
       "↪                                                                              ↪\n",
       "↪                                                                              ↪\n",
       "↪                                                                              ↪\n",
       "↪               β                   1 - β                                      ↪\n",
       "↪           α  ⎞  ⎛             α  ⎞                    ______________________ ↪\n",
       "↪         ─────⎟  ⎜           ─────⎟                   ╱                     - ↪\n",
       "↪         α + β⎟  ⎜           α + β⎟                  ╱    ⎛             α  ⎞  ↪\n",
       "↪ α ___  ⎞     ⎟  ⎜⎛  α ___  ⎞     ⎟                 ╱     ⎜           ─────⎟  ↪\n",
       "↪ ╲╱ q ⋅r⎟     ⎟  ⎜⎜β⋅╲╱ q ⋅r⎟     ⎟                ╱      ⎜           α + β⎟  ↪\n",
       "↪ ───────⎟     ⎟ ⋅⎜⎜─────────⎟     ⎟               ╱       ⎜⎛  α ___  ⎞     ⎟  ↪\n",
       "↪  α⋅w   ⎠     ⎠  ⎝⎝   α⋅w   ⎠     ⎠              ╱        ⎜⎜β⋅╲╱ q ⋅r⎟     ⎟  ↪\n",
       "↪ ───────────────────────────────────────  α⋅w⋅α ╱       q⋅⎜⎜─────────⎟     ⎟  ↪\n",
       "↪                                              ╲╱          ⎝⎝   α⋅w   ⎠     ⎠  ↪\n",
       "↪                                                                              ↪\n",
       "↪                                                                              ↪\n",
       "↪                                                                              ↪\n",
       "↪         1 - β                   β - 1                                        ↪\n",
       "↪     α  ⎞      ⎛             α  ⎞                                             ↪\n",
       "↪   ─────⎟      ⎜           ─────⎟                                             ↪\n",
       "↪   α + β⎟      ⎜           α + β⎟                                             ↪\n",
       "↪  ⎞     ⎟      ⎜⎛  α ___  ⎞     ⎟                                             ↪\n",
       "↪ r⎟     ⎟      ⎜⎜β⋅╲╱ q ⋅r⎟     ⎟                                             ↪\n",
       "↪ ─⎟     ⎟     ⋅⎜⎜─────────⎟     ⎟                                           w ↪\n",
       "↪  ⎠     ⎠      ⎝⎝   α⋅w   ⎠     ⎠                                             ↪\n",
       "\n",
       "↪                                  α                                           ↪\n",
       "↪          ________________________                                            ↪\n",
       "↪         ╱                     -β                     β - 1                   ↪\n",
       "↪        ╱    ⎛             α  ⎞     ⎛             α  ⎞                        ↪\n",
       "↪       ╱     ⎜           ─────⎟     ⎜           ─────⎟                        ↪\n",
       "↪      ╱      ⎜           α + β⎟     ⎜           α + β⎟                        ↪\n",
       "↪     ╱       ⎜⎛  α ___  ⎞     ⎟     ⎜⎛  α ___  ⎞     ⎟                        ↪\n",
       "↪    ╱        ⎜⎜β⋅╲╱ q ⋅r⎟     ⎟     ⎜⎜β⋅╲╱ q ⋅r⎟     ⎟                        ↪\n",
       "↪ α ╱       q⋅⎜⎜─────────⎟     ⎟    ⋅⎜⎜─────────⎟     ⎟                        ↪\n",
       "↪ ╲╱          ⎝⎝   α⋅w   ⎠     ⎠     ⎝⎝   α⋅w   ⎠     ⎠                        ↪\n",
       "↪                                                                              ↪\n",
       "↪                                                                              ↪\n",
       "↪                                                                              ↪\n",
       "↪   -α                                  α - 1                                  ↪\n",
       "↪ __            ________________________                                       ↪\n",
       "↪ β            ╱                     -β                         1 - β          ↪\n",
       "↪             ╱    ⎛             α  ⎞         ⎛             α  ⎞      ⎛        ↪\n",
       "↪            ╱     ⎜           ─────⎟         ⎜           ─────⎟      ⎜        ↪\n",
       "↪           ╱      ⎜           α + β⎟         ⎜           α + β⎟      ⎜        ↪\n",
       "↪          ╱       ⎜⎛  α ___  ⎞     ⎟         ⎜⎛  α ___  ⎞     ⎟      ⎜⎛  α __ ↪\n",
       "↪         ╱        ⎜⎜β⋅╲╱ q ⋅r⎟     ⎟         ⎜⎜β⋅╲╱ q ⋅r⎟     ⎟      ⎜⎜β⋅╲╱ q ↪\n",
       "↪     ⋅α ╱       q⋅⎜⎜─────────⎟     ⎟        ⋅⎜⎜─────────⎟     ⎟     ⋅⎜⎜────── ↪\n",
       "↪      ╲╱          ⎝⎝   α⋅w   ⎠     ⎠         ⎝⎝   α⋅w   ⎠     ⎠      ⎝⎝   α⋅w ↪\n",
       "↪                                                                              ↪\n",
       "↪                                                                              ↪\n",
       "↪                                                                              ↪\n",
       "↪                            1 - β                   β - 2                     ↪\n",
       "↪          ⎛             α  ⎞      ⎛             α  ⎞                          ↪\n",
       "↪          ⎜           ─────⎟      ⎜           ─────⎟                          ↪\n",
       "↪          ⎜           α + β⎟      ⎜           α + β⎟                          ↪\n",
       "↪          ⎜⎛  α ___  ⎞     ⎟      ⎜⎛  α ___  ⎞     ⎟                          ↪\n",
       "↪          ⎜⎜β⋅╲╱ q ⋅r⎟     ⎟      ⎜⎜β⋅╲╱ q ⋅r⎟     ⎟                          ↪\n",
       "↪ ⋅(β - 1)⋅⎜⎜─────────⎟     ⎟     ⋅⎜⎜─────────⎟     ⎟                          ↪\n",
       "↪          ⎝⎝   α⋅w   ⎠     ⎠      ⎝⎝   α⋅w   ⎠     ⎠                          ↪\n",
       "\n",
       "↪                ⎤\n",
       "↪                ⎥\n",
       "↪                ⎥\n",
       "↪                ⎥\n",
       "↪                ⎥\n",
       "↪                ⎥\n",
       "↪                ⎥\n",
       "↪                ⎥\n",
       "↪                ⎥\n",
       "↪                ⎥\n",
       "↪                ⎥\n",
       "↪                ⎥\n",
       "↪                ⎥\n",
       "↪                ⎥\n",
       "↪                ⎥\n",
       "↪           β - 1⎥\n",
       "↪       α  ⎞     ⎥\n",
       "↪     ─────⎟     ⎥\n",
       "↪     α + β⎟     ⎥\n",
       "↪ _  ⎞     ⎟     ⎥\n",
       "↪  ⋅r⎟     ⎟     ⎥\n",
       "↪ ───⎟     ⎟     ⎥\n",
       "↪    ⎠     ⎠     ⎥\n",
       "↪                ⎥\n",
       "↪                ⎥\n",
       "↪                ⎥\n",
       "↪                ⎥\n",
       "↪                ⎥\n",
       "↪                ⎥\n",
       "↪                ⎥\n",
       "↪                ⎥\n",
       "↪                ⎥\n",
       "↪                ⎥\n",
       "↪                ⎦"
      ]
     },
     "metadata": {},
     "output_type": "display_data"
    },
    {
     "data": {
      "text/latex": [
       "$\\displaystyle \\left[\\begin{matrix}0 & 0.278287288902361 & 5.56574577804722\\\\0.278287288902361 & -0.00119265980958155 & 0.0556574577804722\\\\5.56574577804722 & 0.0556574577804722 & -0.742099437072963\\end{matrix}\\right]$"
      ],
      "text/plain": [
       "⎡        0           0.278287288902361     5.56574577804722 ⎤\n",
       "⎢                                                           ⎥\n",
       "⎢0.278287288902361  -0.00119265980958155  0.0556574577804722⎥\n",
       "⎢                                                           ⎥\n",
       "⎣5.56574577804722    0.0556574577804722   -0.742099437072963⎦"
      ]
     },
     "metadata": {},
     "output_type": "display_data"
    },
    {
     "name": "stdout",
     "output_type": "stream",
     "text": [
      "0.266829696892812\n"
     ]
    }
   ],
   "source": [
    "from sympy import Matrix, det\n",
    "\n",
    "# Bordered Hessian matrix construction\n",
    "\n",
    "# Second derivatives (Hessian of L)\n",
    "d2L_dK2 = simplify(diff(foc_K, K))\n",
    "d2L_dL2 = simplify(diff(foc_L, L))\n",
    "d2L_dKdL = simplify(diff(foc_L, K))\n",
    "\n",
    "dg_dK = simplify(diff(foc_l_m, K))\n",
    "dg_dL = simplify(diff(foc_l_m, L))\n",
    "\n",
    "\n",
    "Hessian_L = Matrix([\n",
    "    [0, dg_dK, dg_dL],  # First row: derivatives of the constraint\n",
    "    [dg_dK, d2L_dK2, d2L_dKdL],  # Second row: derivatives with respect to x\n",
    "    [dg_dL, d2L_dKdL, d2L_dL2]   # Third row: derivatives with respect to y\n",
    "])\n",
    "\n",
    "# Simplify the Hessian matrix\n",
    "simplified_Hessian = simplify(Hessian_L)\n",
    "\n",
    "display(simplified_Hessian)\n",
    "\n",
    "# Evaluate the Hessian matrix at the optimal point\n",
    "\n",
    "evaluated_Hessian = simplified_Hessian.subs({K: K_o, L: L_o, l_m: lm})\n",
    "\n",
    "display(evaluated_Hessian)\n",
    "\n",
    "\n",
    "parametros_constant = {r: 0.1, w: 2, alpha: 0.7, beta: 0.6, q: 10}\n",
    "\n",
    "evaluated_H = evaluated_Hessian.subs(parametros_constant)\n",
    "\n",
    "display(evaluated_H)\n",
    "print(det(evaluated_H))"
   ]
  },
  {
   "cell_type": "code",
   "execution_count": 9,
   "metadata": {},
   "outputs": [
    {
     "data": {
      "text/plain": [
       "' costo total de producir q unidades: '"
      ]
     },
     "metadata": {},
     "output_type": "display_data"
    },
    {
     "data": {
      "image/png": "[encoded data removed]",
      "text/latex": [
       "$\\displaystyle r \\left(\\frac{\\beta q^{\\frac{1}{\\alpha}} r}{\\alpha w}\\right)^{\\frac{\\alpha}{\\alpha + \\beta}} + w \\left(q \\left(\\left(\\frac{\\beta q^{\\frac{1}{\\alpha}} r}{\\alpha w}\\right)^{\\frac{\\alpha}{\\alpha + \\beta}}\\right)^{- \\beta}\\right)^{\\frac{1}{\\alpha}}$"
      ],
      "text/plain": [
       "                                ________________________\n",
       "                               ╱                     -β \n",
       "               α              ╱    ⎛             α  ⎞   \n",
       "             ─────           ╱     ⎜           ─────⎟   \n",
       "             α + β          ╱      ⎜           α + β⎟   \n",
       "  ⎛  α ___  ⎞              ╱       ⎜⎛  α ___  ⎞     ⎟   \n",
       "  ⎜β⋅╲╱ q ⋅r⎟             ╱        ⎜⎜β⋅╲╱ q ⋅r⎟     ⎟   \n",
       "r⋅⎜─────────⎟      + w⋅α ╱       q⋅⎜⎜─────────⎟     ⎟   \n",
       "  ⎝   α⋅w   ⎠          ╲╱          ⎝⎝   α⋅w   ⎠     ⎠   "
      ]
     },
     "metadata": {},
     "output_type": "display_data"
    },
    {
     "data": {
      "text/plain": [
       "' costo marginal de producir q unidades: '"
      ]
     },
     "metadata": {},
     "output_type": "display_data"
    },
    {
     "data": {
      "image/png": "[encoded data removed]",
      "text/latex": [
       "$\\displaystyle \\frac{r \\left(\\frac{\\beta q^{\\frac{1}{\\alpha}} r}{\\alpha w}\\right)^{\\frac{\\alpha}{\\alpha + \\beta}} + w \\left(q \\left(\\left(\\frac{\\beta q^{\\frac{1}{\\alpha}} r}{\\alpha w}\\right)^{\\frac{\\alpha}{\\alpha + \\beta}}\\right)^{- \\beta}\\right)^{\\frac{1}{\\alpha}}}{q \\left(\\alpha + \\beta\\right)}$"
      ],
      "text/plain": [
       "                                ________________________\n",
       "                               ╱                     -β \n",
       "               α              ╱    ⎛             α  ⎞   \n",
       "             ─────           ╱     ⎜           ─────⎟   \n",
       "             α + β          ╱      ⎜           α + β⎟   \n",
       "  ⎛  α ___  ⎞              ╱       ⎜⎛  α ___  ⎞     ⎟   \n",
       "  ⎜β⋅╲╱ q ⋅r⎟             ╱        ⎜⎜β⋅╲╱ q ⋅r⎟     ⎟   \n",
       "r⋅⎜─────────⎟      + w⋅α ╱       q⋅⎜⎜─────────⎟     ⎟   \n",
       "  ⎝   α⋅w   ⎠          ╲╱          ⎝⎝   α⋅w   ⎠     ⎠   \n",
       "────────────────────────────────────────────────────────\n",
       "                       q⋅(α + β)                        "
      ]
     },
     "metadata": {},
     "output_type": "display_data"
    }
   ],
   "source": [
    "# calculamos costos totales, costos marginales y produccion óptima\n",
    "\n",
    "# Define symbols (variables)\n",
    "CT_q, CMg_q = symbols('CT_q CMg_q')\n",
    "\n",
    "CT_q= w*K_o+r*L_o\n",
    "\n",
    "display(\" costo total de producir q unidades: \",simplify(CT_q))\n",
    "\n",
    "CMg_q=diff(CT_q,q)\n",
    "\n",
    "display(\" costo marginal de producir q unidades: \",simplify(CMg_q))"
   ]
  },
  {
   "cell_type": "code",
   "execution_count": 15,
   "metadata": {},
   "outputs": [
    {
     "data": {
      "text/plain": [
       "'foc maximizacion gnancia:'"
      ]
     },
     "metadata": {},
     "output_type": "display_data"
    },
    {
     "data": {
      "image/png": "[encoded data removed]",
      "text/latex": [
       "$\\displaystyle P - \\frac{r \\left(\\frac{\\beta q^{\\frac{1}{\\alpha}} r}{\\alpha w}\\right)^{\\frac{\\alpha}{\\alpha + \\beta}}}{q \\left(\\alpha + \\beta\\right)} - \\frac{w \\left(q \\left(\\left(\\frac{\\beta q^{\\frac{1}{\\alpha}} r}{\\alpha w}\\right)^{\\frac{\\alpha}{\\alpha + \\beta}}\\right)^{- \\beta}\\right)^{\\frac{1}{\\alpha}} \\left(- \\frac{\\beta \\left(\\left(\\frac{\\beta q^{\\frac{1}{\\alpha}} r}{\\alpha w}\\right)^{\\frac{\\alpha}{\\alpha + \\beta}}\\right)^{- \\beta}}{\\alpha + \\beta} + \\left(\\left(\\frac{\\beta q^{\\frac{1}{\\alpha}} r}{\\alpha w}\\right)^{\\frac{\\alpha}{\\alpha + \\beta}}\\right)^{- \\beta}\\right) \\left(\\left(\\frac{\\beta q^{\\frac{1}{\\alpha}} r}{\\alpha w}\\right)^{\\frac{\\alpha}{\\alpha + \\beta}}\\right)^{\\beta}}{\\alpha q}$"
      ],
      "text/plain": [
       "                                                             ⎛                 ↪\n",
       "                                    ________________________ ⎜    ⎛            ↪\n",
       "                                   ╱                     -β  ⎜    ⎜            ↪\n",
       "                   α              ╱    ⎛             α  ⎞    ⎜    ⎜            ↪\n",
       "                 ─────           ╱     ⎜           ─────⎟    ⎜    ⎜⎛  α ___  ⎞ ↪\n",
       "                 α + β          ╱      ⎜           α + β⎟    ⎜    ⎜⎜β⋅╲╱ q ⋅r⎟ ↪\n",
       "      ⎛  α ___  ⎞              ╱       ⎜⎛  α ___  ⎞     ⎟    ⎜  β⋅⎜⎜─────────⎟ ↪\n",
       "      ⎜β⋅╲╱ q ⋅r⎟             ╱        ⎜⎜β⋅╲╱ q ⋅r⎟     ⎟    ⎜    ⎝⎝   α⋅w   ⎠ ↪\n",
       "    r⋅⎜─────────⎟        w⋅α ╱       q⋅⎜⎜─────────⎟     ⎟   ⋅⎜- ────────────── ↪\n",
       "      ⎝   α⋅w   ⎠          ╲╱          ⎝⎝   α⋅w   ⎠     ⎠    ⎝          α + β  ↪\n",
       "P - ────────────────── - ───────────────────────────────────────────────────── ↪\n",
       "        q⋅(α + β)                                                           α⋅ ↪\n",
       "\n",
       "↪       -β                       ⎞                    \n",
       "↪   α  ⎞                         ⎟                    \n",
       "↪ ─────⎟                       -β⎟                   β\n",
       "↪ α + β⎟     ⎛             α  ⎞  ⎟ ⎛             α  ⎞ \n",
       "↪      ⎟     ⎜           ─────⎟  ⎟ ⎜           ─────⎟ \n",
       "↪      ⎟     ⎜           α + β⎟  ⎟ ⎜           α + β⎟ \n",
       "↪      ⎟     ⎜⎛  α ___  ⎞     ⎟  ⎟ ⎜⎛  α ___  ⎞     ⎟ \n",
       "↪      ⎠     ⎜⎜β⋅╲╱ q ⋅r⎟     ⎟  ⎟ ⎜⎜β⋅╲╱ q ⋅r⎟     ⎟ \n",
       "↪ ──────── + ⎜⎜─────────⎟     ⎟  ⎟⋅⎜⎜─────────⎟     ⎟ \n",
       "↪            ⎝⎝   α⋅w   ⎠     ⎠  ⎠ ⎝⎝   α⋅w   ⎠     ⎠ \n",
       "↪ ────────────────────────────────────────────────────\n",
       "↪ q                                                   "
      ]
     },
     "metadata": {},
     "output_type": "display_data"
    },
    {
     "data": {
      "image/png": "[encoded data removed]",
      "text/latex": [
       "$\\displaystyle \\frac{r \\left(\\frac{\\beta q^{\\frac{1}{\\alpha}} r}{\\alpha w}\\right)^{\\frac{\\alpha}{\\alpha + \\beta}}}{q \\left(\\alpha + \\beta\\right)} + \\frac{w \\left(q \\left(\\left(\\frac{\\beta q^{\\frac{1}{\\alpha}} r}{\\alpha w}\\right)^{\\frac{\\alpha}{\\alpha + \\beta}}\\right)^{- \\beta}\\right)^{\\frac{1}{\\alpha}} \\left(- \\frac{\\beta \\left(\\left(\\frac{\\beta q^{\\frac{1}{\\alpha}} r}{\\alpha w}\\right)^{\\frac{\\alpha}{\\alpha + \\beta}}\\right)^{- \\beta}}{\\alpha + \\beta} + \\left(\\left(\\frac{\\beta q^{\\frac{1}{\\alpha}} r}{\\alpha w}\\right)^{\\frac{\\alpha}{\\alpha + \\beta}}\\right)^{- \\beta}\\right) \\left(\\left(\\frac{\\beta q^{\\frac{1}{\\alpha}} r}{\\alpha w}\\right)^{\\frac{\\alpha}{\\alpha + \\beta}}\\right)^{\\beta}}{\\alpha q}$"
      ],
      "text/plain": [
       "                                                         ⎛                     ↪\n",
       "                                ________________________ ⎜    ⎛             α  ↪\n",
       "                               ╱                     -β  ⎜    ⎜           ──── ↪\n",
       "               α              ╱    ⎛             α  ⎞    ⎜    ⎜           α +  ↪\n",
       "             ─────           ╱     ⎜           ─────⎟    ⎜    ⎜⎛  α ___  ⎞     ↪\n",
       "             α + β          ╱      ⎜           α + β⎟    ⎜    ⎜⎜β⋅╲╱ q ⋅r⎟     ↪\n",
       "  ⎛  α ___  ⎞              ╱       ⎜⎛  α ___  ⎞     ⎟    ⎜  β⋅⎜⎜─────────⎟     ↪\n",
       "  ⎜β⋅╲╱ q ⋅r⎟             ╱        ⎜⎜β⋅╲╱ q ⋅r⎟     ⎟    ⎜    ⎝⎝   α⋅w   ⎠     ↪\n",
       "r⋅⎜─────────⎟        w⋅α ╱       q⋅⎜⎜─────────⎟     ⎟   ⋅⎜- ────────────────── ↪\n",
       "  ⎝   α⋅w   ⎠          ╲╱          ⎝⎝   α⋅w   ⎠     ⎠    ⎝          α + β      ↪\n",
       "────────────────── + ───────────────────────────────────────────────────────── ↪\n",
       "    q⋅(α + β)                                                           α⋅q    ↪\n",
       "\n",
       "↪   -β                       ⎞                    \n",
       "↪  ⎞                         ⎟                    \n",
       "↪ ─⎟                       -β⎟                   β\n",
       "↪ β⎟     ⎛             α  ⎞  ⎟ ⎛             α  ⎞ \n",
       "↪  ⎟     ⎜           ─────⎟  ⎟ ⎜           ─────⎟ \n",
       "↪  ⎟     ⎜           α + β⎟  ⎟ ⎜           α + β⎟ \n",
       "↪  ⎟     ⎜⎛  α ___  ⎞     ⎟  ⎟ ⎜⎛  α ___  ⎞     ⎟ \n",
       "↪  ⎠     ⎜⎜β⋅╲╱ q ⋅r⎟     ⎟  ⎟ ⎜⎜β⋅╲╱ q ⋅r⎟     ⎟ \n",
       "↪ ──── + ⎜⎜─────────⎟     ⎟  ⎟⋅⎜⎜─────────⎟     ⎟ \n",
       "↪        ⎝⎝   α⋅w   ⎠     ⎠  ⎠ ⎝⎝   α⋅w   ⎠     ⎠ \n",
       "↪ ────────────────────────────────────────────────\n",
       "↪                                                 "
      ]
     },
     "metadata": {},
     "output_type": "display_data"
    }
   ],
   "source": [
    "# resolvemos el problema de maximización del productor\n",
    "\n",
    "# Define symbols (variables)\n",
    "P = symbols('P')\n",
    "\n",
    "PM = P*q-CT_q\n",
    "\n",
    "#FOC maximización ganancia\n",
    "\n",
    "foc_q = diff(PM, q)\n",
    "\n",
    "display(\"foc maximizacion gnancia:\", foc_q )\n",
    "display(CMg_q)\n",
    "\n",
    "# solve for q: not possible\n",
    "# solution_q = solve(Eq(foc_q, 0), (q))\n",
    "\n"
   ]
  },
  {
   "cell_type": "code",
   "execution_count": 76,
   "metadata": {},
   "outputs": [
    {
     "data": {
      "image/png": "[encoded data removed]",
      "text/latex": [
       "$\\displaystyle 9.46349467589933 \\left(\\frac{q}{\\left(q^{2.0}\\right)^{0.307692307692308}}\\right)^{2.0} + 0.0378539787035973 \\left(q^{2.0}\\right)^{0.384615384615385}$"
      ],
      "text/plain": [
       "                                             2.0                               ↪\n",
       "                 ⎛        -0.307692307692308⎞                               0. ↪\n",
       "                 ⎜  ⎛ 2.0⎞                  ⎟                         ⎛ 2.0⎞   ↪\n",
       "9.46349467589933⋅⎝q⋅⎝q   ⎠                  ⎠    + 0.0378539787035973⋅⎝q   ⎠   ↪\n",
       "\n",
       "↪                \n",
       "↪ 384615384615385\n",
       "↪                \n",
       "↪                "
      ]
     },
     "metadata": {},
     "output_type": "display_data"
    },
    {
     "name": "stderr",
     "output_type": "stream",
     "text": [
      "<lambdifygenerated-38>:2: RuntimeWarning: divide by zero encountered in power\n",
      "  return 9.46349467589933*(q*(q**2.0)**(-0.307692307692308))**2.0 + 0.0378539787035973*(q**2.0)**0.384615384615385\n",
      "<lambdifygenerated-38>:2: RuntimeWarning: invalid value encountered in multiply\n",
      "  return 9.46349467589933*(q*(q**2.0)**(-0.307692307692308))**2.0 + 0.0378539787035973*(q**2.0)**0.384615384615385\n"
     ]
    },
    {
     "data": {
      "image/png": "[encoded data removed]",
      "text/latex": [
       "$\\displaystyle \\frac{7.27961128915333 \\left(\\frac{q}{\\left(q^{2.0}\\right)^{0.307692307692308}}\\right)^{2.0} + 0.0291184451566133 \\left(q^{2.0}\\right)^{0.384615384615385}}{q}$"
      ],
      "text/plain": [
       "                                             2.0                               ↪\n",
       "                 ⎛        -0.307692307692308⎞                               0. ↪\n",
       "                 ⎜  ⎛ 2.0⎞                  ⎟                         ⎛ 2.0⎞   ↪\n",
       "7.27961128915333⋅⎝q⋅⎝q   ⎠                  ⎠    + 0.0291184451566133⋅⎝q   ⎠   ↪\n",
       "────────────────────────────────────────────────────────────────────────────── ↪\n",
       "                                              q                                ↪\n",
       "\n",
       "↪                \n",
       "↪ 384615384615385\n",
       "↪                \n",
       "↪                \n",
       "↪ ───────────────\n",
       "↪                "
      ]
     },
     "metadata": {},
     "output_type": "display_data"
    },
    {
     "data": {
      "text/plain": [
       "<matplotlib.legend.Legend at 0x1a3739505f0>"
      ]
     },
     "execution_count": 76,
     "metadata": {},
     "output_type": "execute_result"
    },
    {
     "data": {
      "image/png": "[encoded data removed]",
      "text/plain": [
       "<Figure size 640x480 with 1 Axes>"
      ]
     },
     "metadata": {},
     "output_type": "display_data"
    }
   ],
   "source": [
    "\n",
    "\n",
    "import numpy as np\n",
    "import matplotlib.pyplot as plt\n",
    "from sympy import symbols, lambdify\n",
    "\n",
    "# solución numérica de q óptimo\n",
    "\n",
    "\n",
    "# # evaluar costo total  en valores específicos de los parámetros\n",
    "\n",
    "parametros = {r: 0.1, w: 2, alpha: 0.5, beta: 0.8}\n",
    "\n",
    "evaluated_CT = CT_q.subs(parametros)\n",
    "\n",
    "display(simplify(evaluated_CT))\n",
    "\n",
    "\n",
    "# Convert the symbolic expression to a numerical function\n",
    "CT_lambdified = lambdify(q, evaluated_CT)\n",
    "\n",
    "# Generate q values for the plot\n",
    "q_values = np.linspace(0, 10, 400)\n",
    "\n",
    "# Evaluate the function for each value of q\n",
    "CT_values = CT_lambdified(q_values)\n",
    "\n",
    "# Plotting using matplotlib\n",
    "plt.plot(q_values, CT_values, label='Costo total', color='blue')\n",
    "\n",
    "# Draw axes at (0, 0)\n",
    "plt.axhline(0, color='black', lw=1)  # Horizontal axis (y = 0)\n",
    "plt.axvline(0, color='black', lw=1)  # Vertical axis (x = 0)\n",
    "\n",
    "# Set limits for the axes to ensure the crossing is visible at (0,0)\n",
    "plt.xlim(0, 10)\n",
    "plt.ylim(0, 20)\n",
    "\n",
    "# Set labels and title\n",
    "plt.title('Costo total')\n",
    "plt.xlabel('q')\n",
    "plt.ylabel('CT(q)')\n",
    "\n",
    "# Add a grid and legend\n",
    "plt.grid(True)\n",
    "plt.legend()\n",
    "\n",
    "\n",
    "\n",
    "# # evaluar costo total y costo marginal en valores específicos de los parámetros\n",
    "\n",
    "\n",
    "evaluated_CMg = CMg_q.subs(parametros)\n",
    "\n",
    "display(simplify(evaluated_CMg))\n",
    "\n",
    "\n",
    "# Convert the symbolic expression to a numerical function\n",
    "CMg_lambdified = lambdify(q, evaluated_CMg)\n",
    "\n",
    "# Generate q values for the plot\n",
    "q_values = np.linspace(0.1, 10, 400)\n",
    "\n",
    "# Evaluate the function for each value of q\n",
    "CMg_values = CMg_lambdified(q_values)\n",
    "\n",
    "# Plotting using matplotlib\n",
    "plt.plot(q_values, CMg_values, label='Costo marginal', color='red')\n",
    "\n",
    "# Draw axes at (0, 0)\n",
    "plt.axhline(0, color='black', lw=1)  # Horizontal axis (y = 0)\n",
    "plt.axvline(0, color='black', lw=1)  # Vertical axis (x = 0)\n",
    "\n",
    "# Set limits for the axes to ensure the crossing is visible at (0,0)\n",
    "plt.xlim(0, 10)\n",
    "plt.ylim(0, 20)\n",
    "\n",
    "# Set labels and title\n",
    "plt.title('Costo marginal')\n",
    "plt.xlabel('q')\n",
    "plt.ylabel('CMq(q)')\n",
    "\n",
    "# Add a grid and legend\n",
    "plt.grid(True)\n",
    "plt.legend()\n",
    "\n",
    "\n"
   ]
  },
  {
   "cell_type": "code",
   "execution_count": 77,
   "metadata": {},
   "outputs": [
    {
     "data": {
      "image/png": "[encoded data removed]",
      "text/latex": [
       "$\\displaystyle \\frac{7.27961128915333 \\left(\\frac{q}{\\left(q^{2.0}\\right)^{0.307692307692308}}\\right)^{2.0}}{q} + \\frac{0.0291184451566133 \\left(q^{2.0}\\right)^{0.384615384615385}}{q}$"
      ],
      "text/plain": [
       "                                             2.0                               ↪\n",
       "                 ⎛        -0.307692307692308⎞                               0. ↪\n",
       "                 ⎜  ⎛ 2.0⎞                  ⎟                         ⎛ 2.0⎞   ↪\n",
       "7.27961128915333⋅⎝q⋅⎝q   ⎠                  ⎠      0.0291184451566133⋅⎝q   ⎠   ↪\n",
       "──────────────────────────────────────────────── + ─────────────────────────── ↪\n",
       "                       q                                               q       ↪\n",
       "\n",
       "↪                \n",
       "↪ 384615384615385\n",
       "↪                \n",
       "↪                \n",
       "↪ ───────────────\n",
       "↪                "
      ]
     },
     "metadata": {},
     "output_type": "display_data"
    },
    {
     "name": "stdout",
     "output_type": "stream",
     "text": [
      "Numerical Solution using fsolve: 5.1813734168141545\n",
      "0.222691178771596\n"
     ]
    }
   ],
   "source": [
    "\n",
    "\n",
    "# obtener q \"optimo\" para rendimientos de escala crecientes\n",
    "\n",
    "import numpy as np\n",
    "from sympy import symbols, lambdify\n",
    "from scipy.optimize import fsolve\n",
    "\n",
    "\n",
    "display(evaluated_CMg)\n",
    "\n",
    "evaluated_CMg_numeric = lambdify(q, evaluated_CMg, \"numpy\")\n",
    "\n",
    "# Define the function to solve, using the numeric version of evaluated_CMg\n",
    "def func(q_val):\n",
    "    return -evaluated_CMg_numeric(q_val)+5\n",
    "\n",
    "# Initial guess for the solver\n",
    "initial_guess = 1\n",
    "\n",
    "# Use fsolve to solve the function numerically\n",
    "solu = fsolve(func, initial_guess)\n",
    "\n",
    "print(\"Numerical Solution using fsolve:\", solu[0])\n",
    "\n",
    "segunda_derivada= diff(-evaluated_CMg,q)\n",
    "\n",
    "print(segunda_derivada.subs({q: float(solu[0])}))\n"
   ]
  }
 ],
 "metadata": {
  "kernelspec": {
   "display_name": "clase_mate",
   "language": "python",
   "name": "python3"
  },
  "language_info": {
   "codemirror_mode": {
    "name": "ipython",
    "version": 3
   },
   "file_extension": ".py",
   "mimetype": "text/x-python",
   "name": "python",
   "nbconvert_exporter": "python",
   "pygments_lexer": "ipython3",
   "version": "3.12.5"
  }
 },
 "nbformat": 4,
 "nbformat_minor": 2
}
