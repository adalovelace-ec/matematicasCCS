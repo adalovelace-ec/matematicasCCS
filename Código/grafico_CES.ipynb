{
 "cells": [
  {
   "cell_type": "code",
   "execution_count": 1,
   "metadata": {},
   "outputs": [
    {
     "data": {
      "application/vnd.code.notebook.error": {
       "message": "No module named 'plotly'",
       "name": "ModuleNotFoundError",
       "stack": "\u001b[1;31m---------------------------------------------------------------------------\u001b[0m\n\u001b[1;31mModuleNotFoundError\u001b[0m                       Traceback (most recent call last)\nCell \u001b[1;32mIn[1], line 2\u001b[0m\n\u001b[0;32m      1\u001b[0m \u001b[38;5;28;01mimport\u001b[39;00m \u001b[38;5;21;01mnumpy\u001b[39;00m \u001b[38;5;28;01mas\u001b[39;00m \u001b[38;5;21;01mnp\u001b[39;00m\n\u001b[1;32m----> 2\u001b[0m \u001b[38;5;28;01mimport\u001b[39;00m \u001b[38;5;21;01mplotly\u001b[39;00m\u001b[38;5;21;01m.\u001b[39;00m\u001b[38;5;21;01mgraph_objects\u001b[39;00m \u001b[38;5;28;01mas\u001b[39;00m \u001b[38;5;21;01mgo\u001b[39;00m\n\u001b[0;32m      3\u001b[0m \u001b[38;5;28;01mfrom\u001b[39;00m \u001b[38;5;21;01mipywidgets\u001b[39;00m \u001b[38;5;28;01mimport\u001b[39;00m interactive, VBox\n\u001b[0;32m      4\u001b[0m \u001b[38;5;28;01mfrom\u001b[39;00m \u001b[38;5;21;01mIPython\u001b[39;00m\u001b[38;5;21;01m.\u001b[39;00m\u001b[38;5;21;01mdisplay\u001b[39;00m \u001b[38;5;28;01mimport\u001b[39;00m display\n\n\u001b[1;31mModuleNotFoundError\u001b[0m: No module named 'plotly'"
      }
     },
     "metadata": {},
     "output_type": "display_data"
    }
   ],
   "source": [
    "import numpy as np\n",
    "import plotly.graph_objects as go\n",
    "from ipywidgets import interactive, VBox\n",
    "from IPython.display import display\n",
    "\n",
    "# Generate data\n",
    "x = np.linspace(0.1, 10, 100)\n",
    "y = np.linspace(0.1, 10, 100)\n",
    "x, y = np.meshgrid(x, y)\n",
    "initial_rho = 1\n",
    "z = (x**initial_rho + y**initial_rho)**(1/initial_rho)  # Initial z-values with rho=1\n",
    "\n",
    "# Initialize the plot with enhanced contour settings\n",
    "fig = go.FigureWidget(data=[\n",
    "    go.Surface(\n",
    "        z=z, x=x, y=y, colorscale='Viridis',\n",
    "        contours={\n",
    "            \"z\": {\n",
    "                \"show\": True,\n",
    "                \"start\": 0.1 * z.min(),\n",
    "                \"end\": 1.1 * z.max(),\n",
    "                \"size\": (z.max() - z.min()) / 20,  # Adjust this for more or fewer lines\n",
    "                \"color\": \"black\",  # Set contour lines to white or any other color\n",
    "                \"highlightcolor\": \"red\",  # Color when hovered\n",
    "                \"highlightwidth\": 4\n",
    "\n",
    "            }\n",
    "        }\n",
    "    )\n",
    "])\n",
    "fig.update_layout(\n",
    "    title=f'3D Plot for f(x, y) = (x^{initial_rho} + y^{initial_rho})^(1/{initial_rho})',\n",
    "    autosize=False,\n",
    "    width=700,\n",
    "    height=700,\n",
    "    scene=dict(\n",
    "        zaxis=dict(nticks=4, range=[z.min(), z.max()]),  # Adjust the range to fit all contours\n",
    "        xaxis_title='X',\n",
    "        yaxis_title='Y',\n",
    "        zaxis_title='Z'\n",
    "    )\n",
    ")\n",
    "\n",
    "# Define the function that updates the plot\n",
    "def update_plot(rho):\n",
    "    if rho == 0:\n",
    "        rho = 0.1  # Avoid division by zero\n",
    "    z_new = (x**rho + y**rho)**(1/rho)\n",
    "    with fig.batch_update():\n",
    "        fig.data[0].z = z_new\n",
    "        fig.data[0].contours.z.start = 0.1 * z_new.min()\n",
    "        fig.data[0].contours.z.end = 1.1 * z_new.max()\n",
    "        fig.data[0].contours.z.size = (z_new.max() - z_new.min()) / 20  # Keeps contour intervals adaptive\n",
    "        fig.update_layout(title=f'3D Plot for f(x, y) = (x^{rho} + y^{rho})^(1/{rho})')\n",
    "\n",
    "# Create a slider interface\n",
    "slider = interactive(update_plot, rho=(-15, 1, 0.1))\n",
    "\n",
    "# Use VBox to arrange widgets vertically\n",
    "vbox = VBox([slider, fig])\n",
    "\n",
    "# Display everything\n",
    "display(vbox)\n",
    "\n",
    "\n"
   ]
  }
 ],
 "metadata": {
  "kernelspec": {
   "display_name": "mega",
   "language": "python",
   "name": "python3"
  },
  "language_info": {
   "codemirror_mode": {
    "name": "ipython",
    "version": 3
   },
   "file_extension": ".py",
   "mimetype": "text/x-python",
   "name": "python",
   "nbconvert_exporter": "python",
   "pygments_lexer": "ipython3",
   "version": "3.10.15"
  }
 },
 "nbformat": 4,
 "nbformat_minor": 2
}
