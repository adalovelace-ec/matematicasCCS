{
 "cells": [
  {
   "cell_type": "code",
   "execution_count": 48,
   "metadata": {},
   "outputs": [
    {
     "name": "stdout",
     "output_type": "stream",
     "text": [
      "2.8284271247461903\n"
     ]
    },
    {
     "data": {
      "image/png": "[encoded data removed]",
      "text/latex": [
       "$\\displaystyle 2 \\sqrt{2}$"
      ],
      "text/plain": [
       "2⋅√2"
      ]
     },
     "metadata": {},
     "output_type": "display_data"
    },
    {
     "data": {
      "image/png": "[encoded data removed]",
      "text/latex": [
       "$\\displaystyle x + 2 y$"
      ],
      "text/plain": [
       "x + 2⋅y"
      ]
     },
     "metadata": {},
     "output_type": "display_data"
    },
    {
     "data": {
      "image/png": "[encoded data removed]",
      "text/latex": [
       "$\\displaystyle x^{2} + x + 2 y$"
      ],
      "text/plain": [
       " 2          \n",
       "x  + x + 2⋅y"
      ]
     },
     "metadata": {},
     "output_type": "display_data"
    },
    {
     "data": {
      "image/png": "[encoded data removed]",
      "text/latex": [
       "$\\displaystyle x^{2} + 2 x y$"
      ],
      "text/plain": [
       " 2        \n",
       "x  + 2⋅x⋅y"
      ]
     },
     "metadata": {},
     "output_type": "display_data"
    },
    {
     "data": {
      "image/png": "[encoded data removed]",
      "text/latex": [
       "$\\displaystyle x \\left(x + 2 y\\right)$"
      ],
      "text/plain": [
       "x⋅(x + 2⋅y)"
      ]
     },
     "metadata": {},
     "output_type": "display_data"
    },
    {
     "data": {
      "image/png": "[encoded data removed]",
      "text/latex": [
       "$\\displaystyle 2 t e^{x} \\cos{\\left(t^{2} \\right)}$"
      ],
      "text/plain": [
       "     x    ⎛ 2⎞\n",
       "2⋅t⋅ℯ ⋅cos⎝t ⎠"
      ]
     },
     "metadata": {},
     "output_type": "display_data"
    },
    {
     "data": {
      "image/png": "[encoded data removed]",
      "text/latex": [
       "$\\displaystyle e^{x} \\sin{\\left(x \\right)}$"
      ],
      "text/plain": [
       " x       \n",
       "ℯ ⋅sin(x)"
      ]
     },
     "metadata": {},
     "output_type": "display_data"
    },
    {
     "data": {
      "image/png": "[encoded data removed]",
      "text/latex": [
       "$\\displaystyle \\frac{\\sqrt{2} \\sqrt{\\pi}}{2}$"
      ],
      "text/plain": [
       "√2⋅√π\n",
       "─────\n",
       "  2  "
      ]
     },
     "metadata": {},
     "output_type": "display_data"
    },
    {
     "data": {
      "image/png": "[encoded data removed]",
      "text/latex": [
       "$\\displaystyle \\frac{1}{3}$"
      ],
      "text/plain": [
       "1/3"
      ]
     },
     "metadata": {},
     "output_type": "display_data"
    },
    {
     "data": {
      "image/png": "[encoded data removed]",
      "text/latex": [
       "$\\displaystyle 1$"
      ],
      "text/plain": [
       "1"
      ]
     },
     "metadata": {},
     "output_type": "display_data"
    },
    {
     "name": "stdout",
     "output_type": "stream",
     "text": [
      "solve cuadrática\n"
     ]
    },
    {
     "data": {
      "image/png": "[encoded data removed]",
      "text/latex": [
       "$\\displaystyle \\left[ -2, \\  2\\right]$"
      ],
      "text/plain": [
       "[-2, 2]"
      ]
     },
     "metadata": {},
     "output_type": "display_data"
    },
    {
     "data": {
      "image/png": "[encoded data removed]",
      "text/latex": [
       "$\\displaystyle \\left[ - \\sqrt{c}, \\  \\sqrt{c}\\right]$"
      ],
      "text/plain": [
       "[-√c, √c]"
      ]
     },
     "metadata": {},
     "output_type": "display_data"
    },
    {
     "name": "stdout",
     "output_type": "stream",
     "text": [
      "solve diff\n"
     ]
    },
    {
     "data": {
      "image/png": "[encoded data removed]",
      "text/latex": [
       "$\\displaystyle y{\\left(t \\right)} = C_{2} e^{- t} + \\left(C_{1} + \\frac{t}{2}\\right) e^{t}$"
      ],
      "text/plain": [
       "           -t   ⎛     t⎞  t\n",
       "y(t) = C₂⋅ℯ   + ⎜C₁ + ─⎟⋅ℯ \n",
       "                ⎝     2⎠   "
      ]
     },
     "metadata": {},
     "output_type": "display_data"
    },
    {
     "data": {
      "image/png": "[encoded data removed]",
      "text/latex": [
       "$\\displaystyle \\int\\limits_{0}^{\\pi} \\cos^{2}{\\left(x \\right)}\\, dx$"
      ],
      "text/plain": [
       "π           \n",
       "⌠           \n",
       "⎮    2      \n",
       "⎮ cos (x) dx\n",
       "⌡           \n",
       "0           "
      ]
     },
     "metadata": {},
     "output_type": "display_data"
    },
    {
     "name": "stdout",
     "output_type": "stream",
     "text": [
      "LaTeX string: \\int\\limits_{0}^{\\pi} \\cos^{2}{\\left(x \\right)}\\, dx\n"
     ]
    }
   ],
   "source": [
    "# In a Jupyter Notebook: SymPy will automatically render \n",
    "# LaTeX-style math if you use the display() function instead of print().\n",
    "\n",
    "import math\n",
    "import sympy\n",
    "from sympy import symbols, expand, factor, diff, integrate, limit, Function, Eq, dsolve, latex, pi, oo, Integral\n",
    "\n",
    "# Initialize pretty printing\n",
    "init_printing(use_unicode=True)\n",
    "\n",
    "# Perform basic math with math and sympy\n",
    "print(math.sqrt(8))\n",
    "display(sympy.sqrt(8))  # Display sqrt(8) in symbolic form\n",
    "\n",
    "# Symbolic expressions\n",
    "x, y, c = symbols('x y c')\n",
    "expr = x + 2*y\n",
    "display(expr)\n",
    "display(expr + x*x)\n",
    "\n",
    "# Expand and factor expressions\n",
    "expanded_expr = expand(x*expr)\n",
    "display(expanded_expr)\n",
    "display(factor(expanded_expr))\n",
    "\n",
    "# Differentiate, integrate, limits\n",
    "x, t, z, nu = symbols('x t z nu')\n",
    "res_diff = diff(sympy.sin(t**2) * sympy.exp(x), t)\n",
    "display(res_diff)\n",
    "\n",
    "res_int = integrate(sympy.exp(x)*sympy.sin(x) + sympy.exp(x)*sympy.cos(x), x)\n",
    "display(res_int)\n",
    "\n",
    "display(integrate(sympy.sin(x**2), (x, -oo, oo)))\n",
    "\n",
    "display(integrate(x**2, (x, 0, 1)))\n",
    "\n",
    "display(limit(sympy.sin(x)/x, x, 0))\n",
    "\n",
    "# Solving equations and ODEs\n",
    "equation = Eq(x**2 - 4, 0)\n",
    "solution = sympy.solve(equation, x)\n",
    "print(\"solve cuadrática\")\n",
    "display(solution)\n",
    "\n",
    "res1 = sympy.solve(x**2 - c, x)\n",
    "display(res1)\n",
    "\n",
    "y = Function('y')\n",
    "t = symbols('t')\n",
    "res2 = dsolve(Eq(y(t).diff(t, t) - y(t), sympy.exp(t)), y(t))\n",
    "print(\"solve diff\")\n",
    "display(res2)\n",
    "\n",
    "# Display integral in LaTeX format\n",
    "display(Integral(sympy.cos(x)**2, (x, 0, pi)))\n",
    "\n",
    "# If you want the LaTeX string for use elsewhere:\n",
    "latex_str = latex(Integral(sympy.cos(x)**2, (x, 0, pi)))\n",
    "print(\"LaTeX string:\", latex_str)\n"
   ]
  },
  {
   "cell_type": "code",
   "execution_count": 25,
   "metadata": {},
   "outputs": [
    {
     "data": {
      "text/plain": [
       "'∂/∂x:'"
      ]
     },
     "metadata": {},
     "output_type": "display_data"
    },
    {
     "data": {
      "image/png": "[encoded data removed]",
      "text/latex": [
       "$\\displaystyle 3 x^{2} y^{2} + 2 x y^{3}$"
      ],
      "text/plain": [
       "   2  2        3\n",
       "3⋅x ⋅y  + 2⋅x⋅y "
      ]
     },
     "metadata": {},
     "output_type": "display_data"
    },
    {
     "data": {
      "text/plain": [
       "'∂²/∂x²:'"
      ]
     },
     "metadata": {},
     "output_type": "display_data"
    },
    {
     "data": {
      "image/png": "[encoded data removed]",
      "text/latex": [
       "$\\displaystyle 2 y^{2} \\left(3 x + y\\right)$"
      ],
      "text/plain": [
       "   2          \n",
       "2⋅y ⋅(3⋅x + y)"
      ]
     },
     "metadata": {},
     "output_type": "display_data"
    },
    {
     "data": {
      "text/plain": [
       "'∂²/∂x∂y:'"
      ]
     },
     "metadata": {},
     "output_type": "display_data"
    },
    {
     "data": {
      "image/png": "[encoded data removed]",
      "text/latex": [
       "$\\displaystyle 6 x y \\left(x + y\\right)$"
      ],
      "text/plain": [
       "6⋅x⋅y⋅(x + y)"
      ]
     },
     "metadata": {},
     "output_type": "display_data"
    },
    {
     "data": {
      "text/plain": [
       "'∂³/∂x²∂y:'"
      ]
     },
     "metadata": {},
     "output_type": "display_data"
    },
    {
     "data": {
      "image/png": "[encoded data removed]",
      "text/latex": [
       "$\\displaystyle 6 y \\left(2 x + y\\right)$"
      ],
      "text/plain": [
       "6⋅y⋅(2⋅x + y)"
      ]
     },
     "metadata": {},
     "output_type": "display_data"
    }
   ],
   "source": [
    "from sympy import symbols, diff\n",
    "\n",
    "# Initialize pretty printing\n",
    "init_printing(use_unicode=True)\n",
    "\n",
    "\n",
    "# Define symbols\n",
    "x, y = symbols('x y')\n",
    "\n",
    "# Define an expression\n",
    "expr = x**3 * y**2 + x**2 * y**3\n",
    "\n",
    "# First partial derivative with respect to x\n",
    "partial_x = diff(expr, x)\n",
    "display(\"∂/∂x:\", partial_x)\n",
    "\n",
    "# Second partial derivative with respect to x\n",
    "second_partial_x = diff(expr, x, 2)\n",
    "display(\"∂²/∂x²:\", second_partial_x)\n",
    "\n",
    "# Mixed second partial derivative ∂²/∂x∂y\n",
    "mixed_partial = diff(expr, x, y)\n",
    "display(\"∂²/∂x∂y:\", mixed_partial)\n",
    "\n",
    "# Third partial derivative ∂³/∂x²∂y\n",
    "third_partial_mixed = diff(expr, x, 2, y)\n",
    "display(\"∂³/∂x²∂y:\", third_partial_mixed)\n"
   ]
  },
  {
   "cell_type": "code",
   "execution_count": 49,
   "metadata": {},
   "outputs": [
    {
     "data": {
      "text/plain": [
       "'Solution for x:'"
      ]
     },
     "metadata": {},
     "output_type": "display_data"
    },
    {
     "data": {
      "image/png": "[encoded data removed]",
      "text/latex": [
       "$\\displaystyle \\left[ \\frac{y \\left(\\sqrt{- 4 c_{1} c_{2} + 1} - 1\\right)}{2 c_{1}}, \\  - \\frac{y \\left(\\sqrt{- 4 c_{1} c_{2} + 1} + 1\\right)}{2 c_{1}}\\right]$"
      ],
      "text/plain": [
       "⎡  ⎛  ______________    ⎞     ⎛  ______________    ⎞ ⎤\n",
       "⎢y⋅⎝╲╱ -4⋅c₁⋅c₂ + 1  - 1⎠  -y⋅⎝╲╱ -4⋅c₁⋅c₂ + 1  + 1⎠ ⎥\n",
       "⎢────────────────────────, ──────────────────────────⎥\n",
       "⎣          2⋅c₁                       2⋅c₁           ⎦"
      ]
     },
     "metadata": {},
     "output_type": "display_data"
    },
    {
     "data": {
      "text/plain": [
       "'Solution for y:'"
      ]
     },
     "metadata": {},
     "output_type": "display_data"
    },
    {
     "data": {
      "image/png": "[encoded data removed]",
      "text/latex": [
       "$\\displaystyle \\left[ \\frac{x \\left(\\sqrt{- 4 c_{1} c_{2} + 1} - 1\\right)}{2 c_{2}}, \\  - \\frac{x \\left(\\sqrt{- 4 c_{1} c_{2} + 1} + 1\\right)}{2 c_{2}}\\right]$"
      ],
      "text/plain": [
       "⎡  ⎛  ______________    ⎞     ⎛  ______________    ⎞ ⎤\n",
       "⎢x⋅⎝╲╱ -4⋅c₁⋅c₂ + 1  - 1⎠  -x⋅⎝╲╱ -4⋅c₁⋅c₂ + 1  + 1⎠ ⎥\n",
       "⎢────────────────────────, ──────────────────────────⎥\n",
       "⎣          2⋅c₂                       2⋅c₂           ⎦"
      ]
     },
     "metadata": {},
     "output_type": "display_data"
    }
   ],
   "source": [
    "from sympy import symbols, Function, Eq, solve\n",
    "\n",
    "# Initialize pretty printing\n",
    "init_printing(use_unicode=True)\n",
    "\n",
    "\n",
    "\n",
    "# Define symbols (variables)\n",
    "x, y, c1, c2 = symbols('x y c1 c2')\n",
    "\n",
    "# Define a multivariable function f(x, y)\n",
    "f = c1*x**2 + c2*y**2 + x*y\n",
    "\n",
    "\n",
    "# Solve the equation f(x, y) = 0 for x\n",
    "equation = Eq(f, 0)\n",
    "solution_x = solve(equation, x)\n",
    "display(\"Solution for x:\", solution_x)\n",
    "\n",
    "# Solve the equation f(x, y) = 0 for y\n",
    "solution_y = solve(equation, y)\n",
    "display(\"Solution for y:\", solution_y)\n"
   ]
  },
  {
   "cell_type": "code",
   "execution_count": 28,
   "metadata": {},
   "outputs": [
    {
     "data": {
      "image/png": "[encoded data removed]",
      "text/latex": [
       "$\\displaystyle c x^{\\alpha} y^{1 - \\alpha} + h \\left(- p_{x} x - p_{y} y + w\\right)$"
      ],
      "text/plain": [
       "   α  1 - α                        \n",
       "c⋅x ⋅y      + h⋅(-pₓ⋅x - p_y⋅y + w)"
      ]
     },
     "metadata": {},
     "output_type": "display_data"
    },
    {
     "data": {
      "text/plain": [
       "'foc for x:'"
      ]
     },
     "metadata": {},
     "output_type": "display_data"
    },
    {
     "data": {
      "image/png": "[encoded data removed]",
      "text/latex": [
       "$\\displaystyle \\frac{\\alpha c x^{\\alpha} y^{1 - \\alpha}}{x} - h p_{x}$"
      ],
      "text/plain": [
       "     α  1 - α       \n",
       "α⋅c⋅x ⋅y            \n",
       "───────────── - h⋅pₓ\n",
       "      x             "
      ]
     },
     "metadata": {},
     "output_type": "display_data"
    },
    {
     "data": {
      "text/plain": [
       "'foc for y:'"
      ]
     },
     "metadata": {},
     "output_type": "display_data"
    },
    {
     "data": {
      "image/png": "[encoded data removed]",
      "text/latex": [
       "$\\displaystyle \\frac{- c x^{\\alpha} y^{1 - \\alpha} \\left(\\alpha - 1\\right) - h p_{y} y}{y}$"
      ],
      "text/plain": [
       "     α  1 - α                  \n",
       "- c⋅x ⋅y     ⋅(α - 1) - h⋅p_y⋅y\n",
       "───────────────────────────────\n",
       "               y               "
      ]
     },
     "metadata": {},
     "output_type": "display_data"
    },
    {
     "data": {
      "text/plain": [
       "'foc for h:'"
      ]
     },
     "metadata": {},
     "output_type": "display_data"
    },
    {
     "data": {
      "image/png": "[encoded data removed]",
      "text/latex": [
       "$\\displaystyle - p_{x} x - p_{y} y + w$"
      ],
      "text/plain": [
       "-pₓ⋅x - p_y⋅y + w"
      ]
     },
     "metadata": {},
     "output_type": "display_data"
    },
    {
     "name": "stdout",
     "output_type": "stream",
     "text": [
      "Solutions for the system:\n"
     ]
    },
    {
     "data": {
      "image/png": "[encoded data removed]",
      "text/latex": [
       "$\\displaystyle \\left[ \\left( \\frac{\\alpha w}{p_{x}}, \\  \\frac{w \\left(1 - \\alpha\\right)}{p_{y}}, \\  \\frac{c \\left(\\frac{\\alpha w}{p_{x}}\\right)^{\\alpha} \\left(\\frac{w \\left(1 - \\alpha\\right)}{p_{y}}\\right)^{1 - \\alpha}}{w}\\right)\\right]$"
      ],
      "text/plain": [
       "⎡⎛                       α            1 - α⎞⎤\n",
       "⎢⎜                  ⎛α⋅w⎞  ⎛w⋅(1 - α)⎞     ⎟⎥\n",
       "⎢⎜                c⋅⎜───⎟ ⋅⎜─────────⎟     ⎟⎥\n",
       "⎢⎜α⋅w  w⋅(1 - α)    ⎝pₓ ⎠  ⎝   p_y   ⎠     ⎟⎥\n",
       "⎢⎜───, ─────────, ─────────────────────────⎟⎥\n",
       "⎣⎝pₓ      p_y                 w            ⎠⎦"
      ]
     },
     "metadata": {},
     "output_type": "display_data"
    }
   ],
   "source": [
    "# calculo de los optimos \n",
    "# demanda walrasiana Cobb Douglas\n",
    "\n",
    "from sympy import symbols, diff, Eq, solve, simplify, expand, factor, cancel, collect, Matrix\n",
    "\n",
    "# Initialize pretty printing\n",
    "init_printing(use_unicode=True)\n",
    "\n",
    "\n",
    "\n",
    "# Define symbols (variables)\n",
    "x, y, p_x, p_y, w, c, alpha, h = symbols('x y p_x p_y w c alpha h')\n",
    "\n",
    "# Define a multivariable function f(x, y)\n",
    "L = c*(x**alpha)*(y**(1-alpha))+ h*(w-p_x*x-p_y*y)\n",
    "display(L)\n",
    "# first order conditions\n",
    "\n",
    "foc_x = simplify(diff(L,x))\n",
    "foc_y = simplify(diff(L,y))\n",
    "foc_h =  simplify(diff(L,h))\n",
    "\n",
    "display(\"foc for x:\", foc_x)\n",
    "display(\"foc for y:\", foc_y)\n",
    "display(\"foc for h:\", foc_h)\n",
    "\n",
    "# Solve the system foc_x = 0, foc_y = 0, foc_h = 0\n",
    "solutions = solve([Eq(foc_x, 0), Eq(foc_y, 0), Eq(foc_h, 0)], (x, y, h))\n",
    "simplified_solutions = [simplify(sol) for sol in solutions]\n",
    "# Output the solutions for x, y, and h\n",
    "print(\"Solutions for the system:\")\n",
    "display(simplified_solutions)"
   ]
  },
  {
   "cell_type": "code",
   "execution_count": 31,
   "metadata": {},
   "outputs": [
    {
     "data": {
      "image/png": "[encoded data removed]",
      "text/latex": [
       "$\\displaystyle - p_{x} x - p_{y} y + w$"
      ],
      "text/plain": [
       "-pₓ⋅x - p_y⋅y + w"
      ]
     },
     "metadata": {},
     "output_type": "display_data"
    },
    {
     "data": {
      "image/png": "[encoded data removed]",
      "text/latex": [
       "$\\displaystyle 2 c x - h p_{x}$"
      ],
      "text/plain": [
       "2⋅c⋅x - h⋅pₓ"
      ]
     },
     "metadata": {},
     "output_type": "display_data"
    },
    {
     "data": {
      "image/png": "[encoded data removed]",
      "text/latex": [
       "$\\displaystyle - h p_{y} + 2 y$"
      ],
      "text/plain": [
       "-h⋅p_y + 2⋅y"
      ]
     },
     "metadata": {},
     "output_type": "display_data"
    },
    {
     "data": {
      "image/png": "[encoded data removed]",
      "text/latex": [
       "$\\displaystyle \\left\\{ h : \\frac{2 c w}{c p_{y}^{2} + p_{x}^{2}}, \\  x : \\frac{p_{x} w}{c p_{y}^{2} + p_{x}^{2}}, \\  y : \\frac{c p_{y} w}{c p_{y}^{2} + p_{x}^{2}}\\right\\}$"
      ],
      "text/plain": [
       "⎧      2⋅c⋅w             pₓ⋅w           c⋅p_y⋅w   ⎫\n",
       "⎪h: ────────────, x: ────────────, y: ────────────⎪\n",
       "⎨        2     2          2     2          2     2⎬\n",
       "⎪   c⋅p_y  + pₓ      c⋅p_y  + pₓ      c⋅p_y  + pₓ ⎪\n",
       "⎩                                                 ⎭"
      ]
     },
     "metadata": {},
     "output_type": "display_data"
    },
    {
     "name": "stdout",
     "output_type": "stream",
     "text": [
      "Bordered Hessian Matrix:\n"
     ]
    },
    {
     "data": {
      "text/latex": [
       "$\\displaystyle \\left[\\begin{matrix}0 & - p_{x} & - p_{y}\\\\- p_{x} & 2 c & 0\\\\- p_{y} & 0 & 2\\end{matrix}\\right]$"
      ],
      "text/plain": [
       "⎡ 0    -pₓ  -p_y⎤\n",
       "⎢               ⎥\n",
       "⎢-pₓ   2⋅c   0  ⎥\n",
       "⎢               ⎥\n",
       "⎣-p_y   0    2  ⎦"
      ]
     },
     "metadata": {},
     "output_type": "display_data"
    },
    {
     "name": "stdout",
     "output_type": "stream",
     "text": [
      "Bordered Hessian Matrix evaluated at the optimal point:\n"
     ]
    },
    {
     "data": {
      "text/latex": [
       "$\\displaystyle \\left[\\begin{matrix}0 & - p_{x} & - p_{y}\\\\- p_{x} & 2 c & 0\\\\- p_{y} & 0 & 2\\end{matrix}\\right]$"
      ],
      "text/plain": [
       "⎡ 0    -pₓ  -p_y⎤\n",
       "⎢               ⎥\n",
       "⎢-pₓ   2⋅c   0  ⎥\n",
       "⎢               ⎥\n",
       "⎣-p_y   0    2  ⎦"
      ]
     },
     "metadata": {},
     "output_type": "display_data"
    }
   ],
   "source": [
    "from sympy import symbols, diff, Matrix, Eq, solve, simplify, det\n",
    "\n",
    "\n",
    "# Initialize pretty printing\n",
    "init_printing(use_unicode=True)\n",
    "\n",
    "# Define symbols (variables)\n",
    "x, y, p_x, p_y, w, c, alpha, beta, h = symbols('x y p_x p_y w c alpha beta h')\n",
    "\n",
    "# función a maximizar\n",
    "f = c * (x**2) + (y**2)\n",
    "\n",
    "# Constraint function (px*x + py*y - w = 0)\n",
    "g = -p_x * x - p_y * y + w\n",
    "\n",
    "\n",
    "# Define the Lagrangian L(x, y, h)\n",
    "L = f + h * g\n",
    "\n",
    "# First-order conditions (FOCs)\n",
    "foc_x = diff(L, x)  # FOC with respect to x\n",
    "foc_y = diff(L, y)  # FOC with respect to y\n",
    "foc_h = diff(L, h)  # FOC with respect to h\n",
    "\n",
    "display(foc_h)\n",
    "display(foc_x)\n",
    "display(foc_y)\n",
    "\n",
    "# Solve the system of FOCs\n",
    "solutions = solve([Eq(foc_x, 0), Eq(foc_y, 0), Eq(foc_h, 0)], (x, y, h))\n",
    "display(solutions)\n",
    "\n",
    "# Extract the optimal values for x, y, and h\n",
    "optimal_h ,optimal_x, optimal_y = solutions\n",
    "\n",
    "# Second derivatives (Hessian of L)\n",
    "d2L_dx2 = diff(foc_x, x)\n",
    "d2L_dy2 = diff(foc_y, y)\n",
    "d2L_dxdy = diff(foc_x, y)\n",
    "\n",
    "\n",
    "\n",
    "# Derivatives of the constraint function\n",
    "dg_dx = diff(g, x)\n",
    "dg_dy = diff(g, y)\n",
    "\n",
    "# Bordered Hessian matrix construction\n",
    "Hessian_L = Matrix([\n",
    "    [0, dg_dx, dg_dy],  # First row: derivatives of the constraint\n",
    "    [dg_dx, d2L_dx2, d2L_dxdy],  # Second row: derivatives with respect to x\n",
    "    [dg_dy, d2L_dxdy, d2L_dy2]   # Third row: derivatives with respect to y\n",
    "])\n",
    "\n",
    "# Simplify the Hessian matrix\n",
    "simplified_Hessian = simplify(Hessian_L)\n",
    "\n",
    "# Evaluate the Hessian matrix at the optimal point\n",
    "evaluated_Hessian = simplified_Hessian.subs({x: optimal_x, y: optimal_y, h: optimal_h})\n",
    "\n",
    "# Display the results\n",
    "print(\"Bordered Hessian Matrix:\")\n",
    "display(simplified_Hessian)\n",
    "\n",
    "print(\"Bordered Hessian Matrix evaluated at the optimal point:\")\n",
    "display(evaluated_Hessian)\n"
   ]
  },
  {
   "cell_type": "code",
   "execution_count": 32,
   "metadata": {},
   "outputs": [
    {
     "data": {
      "text/latex": [
       "$\\displaystyle \\left[\\begin{matrix}0 & -1 & -1\\\\-1 & 2 & 0\\\\-1 & 0 & 2\\end{matrix}\\right]$"
      ],
      "text/plain": [
       "⎡0   -1  -1⎤\n",
       "⎢          ⎥\n",
       "⎢-1  2   0 ⎥\n",
       "⎢          ⎥\n",
       "⎣-1  0   2 ⎦"
      ]
     },
     "metadata": {},
     "output_type": "display_data"
    },
    {
     "name": "stdout",
     "output_type": "stream",
     "text": [
      "-4\n"
     ]
    }
   ],
   "source": [
    "# Define parameter constraints\n",
    "constraints = {alpha: 1, beta: 2, p_x: 1, p_y: 1, c: 1, w: 10}  # Example values: c > 0, px > 0, py > 0, w > 0\n",
    "\n",
    "# Substitute parameter constraints into the evaluated Hessian\n",
    "evaluated_Hessian_constrained = evaluated_Hessian.subs(constraints)\n",
    "\n",
    "display(evaluated_Hessian_constrained)\n",
    "\n",
    "print(det(evaluated_Hessian_constrained))\n",
    "\n",
    "#para la interpretación de los signos, véase Alpha Chiang (4ta ecición) página 359\n"
   ]
  },
  {
   "cell_type": "code",
   "execution_count": 44,
   "metadata": {},
   "outputs": [
    {
     "data": {
      "image/png": "[encoded data removed]",
      "text/latex": [
       "$\\displaystyle l \\left(u - x^{\\alpha} y^{1 - \\alpha}\\right) - p_{x} x - p_{y} y$"
      ],
      "text/plain": [
       "  ⎛     α  1 - α⎞               \n",
       "l⋅⎝u - x ⋅y     ⎠ - pₓ⋅x - p_y⋅y"
      ]
     },
     "metadata": {},
     "output_type": "display_data"
    },
    {
     "data": {
      "text/plain": [
       "'FOC for x:'"
      ]
     },
     "metadata": {},
     "output_type": "display_data"
    },
    {
     "data": {
      "image/png": "[encoded data removed]",
      "text/latex": [
       "$\\displaystyle - \\frac{\\alpha l x^{\\alpha} y^{1 - \\alpha}}{x} - p_{x}$"
      ],
      "text/plain": [
       "       α  1 - α     \n",
       "  α⋅l⋅x ⋅y          \n",
       "- ───────────── - pₓ\n",
       "        x           "
      ]
     },
     "metadata": {},
     "output_type": "display_data"
    },
    {
     "data": {
      "text/plain": [
       "'FOC for y:'"
      ]
     },
     "metadata": {},
     "output_type": "display_data"
    },
    {
     "data": {
      "image/png": "[encoded data removed]",
      "text/latex": [
       "$\\displaystyle - \\frac{l x^{\\alpha} y^{1 - \\alpha} \\left(1 - \\alpha\\right)}{y} - p_{y}$"
      ],
      "text/plain": [
       "     α  1 - α              \n",
       "  l⋅x ⋅y     ⋅(1 - α)      \n",
       "- ─────────────────── - p_y\n",
       "           y               "
      ]
     },
     "metadata": {},
     "output_type": "display_data"
    },
    {
     "data": {
      "text/plain": [
       "'FOC for lambda:'"
      ]
     },
     "metadata": {},
     "output_type": "display_data"
    },
    {
     "data": {
      "image/png": "[encoded data removed]",
      "text/latex": [
       "$\\displaystyle u - x^{\\alpha} y^{1 - \\alpha}$"
      ],
      "text/plain": [
       "     α  1 - α\n",
       "u - x ⋅y     "
      ]
     },
     "metadata": {},
     "output_type": "display_data"
    },
    {
     "data": {
      "text/plain": [
       "'Solutions:'"
      ]
     },
     "metadata": {},
     "output_type": "display_data"
    },
    {
     "data": {
      "image/png": "[encoded data removed]",
      "text/latex": [
       "$\\displaystyle \\left[ \\left( \\left(u \\left(\\left(\\frac{p_{x} u^{\\frac{1}{\\alpha}} \\left(1 - \\alpha\\right)}{\\alpha p_{y}}\\right)^{\\alpha}\\right)^{\\alpha - 1}\\right)^{\\frac{1}{\\alpha}}, \\  \\left(\\frac{p_{x} u^{\\frac{1}{\\alpha}} \\left(1 - \\alpha\\right)}{\\alpha p_{y}}\\right)^{\\alpha}, \\  \\frac{p_{y} \\left(\\left(u \\left(\\left(\\frac{p_{x} u^{\\frac{1}{\\alpha}} \\left(1 - \\alpha\\right)}{\\alpha p_{y}}\\right)^{\\alpha}\\right)^{\\alpha - 1}\\right)^{\\frac{1}{\\alpha}}\\right)^{- \\alpha} \\left(\\left(\\frac{p_{x} u^{\\frac{1}{\\alpha}} \\left(1 - \\alpha\\right)}{\\alpha p_{y}}\\right)^{\\alpha}\\right)^{\\alpha}}{\\alpha - 1}\\right)\\right]$"
      ],
      "text/plain": [
       "⎡⎛                                                                             ↪\n",
       "⎢⎜                                                                       _____ ↪\n",
       "⎢⎜                                                                      ╱      ↪\n",
       "⎢⎜       ______________________________                                ╱    ⎛  ↪\n",
       "⎢⎜      ╱                        α - 1                                ╱     ⎜⎛ ↪\n",
       "⎢⎜     ╱    ⎛                  α⎞                          α         ╱      ⎜⎜ ↪\n",
       "⎢⎜    ╱     ⎜⎛   α ___        ⎞ ⎟        ⎛   α ___        ⎞   p_y⋅α ╱     u⋅⎜⎜ ↪\n",
       "⎢⎜   ╱      ⎜⎜pₓ⋅╲╱ u ⋅(1 - α)⎟ ⎟        ⎜pₓ⋅╲╱ u ⋅(1 - α)⎟       ╲╱        ⎝⎝ ↪\n",
       "⎢⎜α ╱     u⋅⎜⎜────────────────⎟ ⎟      , ⎜────────────────⎟ , ──────────────── ↪\n",
       "⎣⎝╲╱        ⎝⎝     α⋅p_y      ⎠ ⎠        ⎝     α⋅p_y      ⎠                    ↪\n",
       "\n",
       "↪                          -α                       ⎞⎤\n",
       "↪ _________________________                         ⎟⎥\n",
       "↪                    α - 1                         α⎟⎥\n",
       "↪                  α⎞         ⎛                  α⎞ ⎟⎥\n",
       "↪    α ___        ⎞ ⎟         ⎜⎛   α ___        ⎞ ⎟ ⎟⎥\n",
       "↪ pₓ⋅╲╱ u ⋅(1 - α)⎟ ⎟         ⎜⎜pₓ⋅╲╱ u ⋅(1 - α)⎟ ⎟ ⎟⎥\n",
       "↪ ────────────────⎟ ⎟        ⋅⎜⎜────────────────⎟ ⎟ ⎟⎥\n",
       "↪      α⋅p_y      ⎠ ⎠         ⎝⎝     α⋅p_y      ⎠ ⎠ ⎟⎥\n",
       "↪ ──────────────────────────────────────────────────⎟⎥\n",
       "↪               α - 1                               ⎠⎦"
      ]
     },
     "metadata": {},
     "output_type": "display_data"
    },
    {
     "data": {
      "text/plain": [
       "'Simplified x:'"
      ]
     },
     "metadata": {},
     "output_type": "display_data"
    },
    {
     "data": {
      "image/png": "[encoded data removed]",
      "text/latex": [
       "$\\displaystyle \\left(u \\left(\\left(\\frac{p_{x} u^{\\frac{1}{\\alpha}} \\left(1 - \\alpha\\right)}{\\alpha p_{y}}\\right)^{\\alpha}\\right)^{\\alpha - 1}\\right)^{\\frac{1}{\\alpha}}$"
      ],
      "text/plain": [
       "       ______________________________\n",
       "      ╱                        α - 1 \n",
       "     ╱    ⎛                  α⎞      \n",
       "    ╱     ⎜⎛   α ___        ⎞ ⎟      \n",
       "   ╱      ⎜⎜pₓ⋅╲╱ u ⋅(1 - α)⎟ ⎟      \n",
       "α ╱     u⋅⎜⎜────────────────⎟ ⎟      \n",
       "╲╱        ⎝⎝     α⋅p_y      ⎠ ⎠      "
      ]
     },
     "metadata": {},
     "output_type": "display_data"
    },
    {
     "data": {
      "text/plain": [
       "'Simplified y:'"
      ]
     },
     "metadata": {},
     "output_type": "display_data"
    },
    {
     "data": {
      "image/png": "[encoded data removed]",
      "text/latex": [
       "$\\displaystyle \\left(\\frac{p_{x} u^{\\frac{1}{\\alpha}} \\left(1 - \\alpha\\right)}{\\alpha p_{y}}\\right)^{\\alpha}$"
      ],
      "text/plain": [
       "                  α\n",
       "⎛   α ___        ⎞ \n",
       "⎜pₓ⋅╲╱ u ⋅(1 - α)⎟ \n",
       "⎜────────────────⎟ \n",
       "⎝     α⋅p_y      ⎠ "
      ]
     },
     "metadata": {},
     "output_type": "display_data"
    },
    {
     "data": {
      "text/plain": [
       "'Simplified h:'"
      ]
     },
     "metadata": {},
     "output_type": "display_data"
    },
    {
     "data": {
      "image/png": "[encoded data removed]",
      "text/latex": [
       "$\\displaystyle \\frac{p_{y} \\left(\\left(u \\left(\\left(\\frac{p_{x} u^{\\frac{1}{\\alpha}} \\left(1 - \\alpha\\right)}{\\alpha p_{y}}\\right)^{\\alpha}\\right)^{\\alpha - 1}\\right)^{\\frac{1}{\\alpha}}\\right)^{- \\alpha} \\left(\\left(\\frac{p_{x} u^{\\frac{1}{\\alpha}} \\left(1 - \\alpha\\right)}{\\alpha p_{y}}\\right)^{\\alpha}\\right)^{\\alpha}}{\\alpha - 1}$"
      ],
      "text/plain": [
       "                                         -α                       \n",
       "           ______________________________                         \n",
       "          ╱                        α - 1                         α\n",
       "         ╱    ⎛                  α⎞         ⎛                  α⎞ \n",
       "        ╱     ⎜⎛   α ___        ⎞ ⎟         ⎜⎛   α ___        ⎞ ⎟ \n",
       "       ╱      ⎜⎜pₓ⋅╲╱ u ⋅(1 - α)⎟ ⎟         ⎜⎜pₓ⋅╲╱ u ⋅(1 - α)⎟ ⎟ \n",
       "p_y⋅α ╱     u⋅⎜⎜────────────────⎟ ⎟        ⋅⎜⎜────────────────⎟ ⎟ \n",
       "    ╲╱        ⎝⎝     α⋅p_y      ⎠ ⎠         ⎝⎝     α⋅p_y      ⎠ ⎠ \n",
       "──────────────────────────────────────────────────────────────────\n",
       "                              α - 1                               "
      ]
     },
     "metadata": {},
     "output_type": "display_data"
    }
   ],
   "source": [
    "# Calculo de los optimos \n",
    "# Demanda Hicksiana Cobb Douglas\n",
    "\n",
    "from sympy import symbols, diff, Eq, solve, simplify, init_printing, radsimp\n",
    "import symengine as se\n",
    "\n",
    "# Initialize pretty printing\n",
    "init_printing(use_unicode=True)\n",
    "\n",
    "# Define symbols (variables)\n",
    "x, y, p_x, p_y, u, c, alpha, h_x, h_y, l, g = symbols('x y p_x p_y u c alpha h_x h_y l g')\n",
    "\n",
    "# Define a multivariable function L(x, y, h)\n",
    "L = -p_x * x - p_y * y + l * (u - (x ** alpha) * (y ** (1 - alpha)))\n",
    "display(L)\n",
    "\n",
    "# First order conditions\n",
    "foc_x = diff(L, x)\n",
    "foc_y = diff(L, y)\n",
    "foc_h = diff(L, l)\n",
    "\n",
    "display(\"FOC for x:\", foc_x)\n",
    "display(\"FOC for y:\", foc_y)\n",
    "display(\"FOC for lambda:\", foc_h)\n",
    "\n",
    "# Solve the system foc_x = 0, foc_y = 0, foc_h = 0\n",
    "solutions = solve([Eq(foc_x, 0), Eq(foc_y, 0), Eq(foc_h, 0)], (x, y, l))\n",
    "\n",
    "# Output the solutions for x, y, and lambda\n",
    "display(\"Solutions:\", solutions)\n",
    "\n",
    "# Optional: simplified versions of the solutions\n",
    "h_x = simplify(solutions[0][0])\n",
    "h_y = simplify(solutions[0][1])\n",
    "ll = simplify(solutions[0][2])\n",
    "\n",
    "display(\"Simplified x:\", h_x)\n",
    "display(\"Simplified y:\", h_y)\n",
    "display(\"Simplified h:\", ll)\n",
    "\n",
    "\n",
    "g=p_x*h_x+p_y*h_y\n"
   ]
  },
  {
   "cell_type": "code",
   "execution_count": 45,
   "metadata": {},
   "outputs": [
    {
     "data": {
      "image/png": "[encoded data removed]",
      "text/latex": [
       "$\\displaystyle \\left(u \\left(\\left(\\frac{p_{x} u^{\\frac{1}{\\alpha}} \\left(1 - \\alpha\\right)}{\\alpha p_{y}}\\right)^{\\alpha}\\right)^{\\alpha - 1}\\right)^{\\frac{1}{\\alpha}}$"
      ],
      "text/plain": [
       "       ______________________________\n",
       "      ╱                        α - 1 \n",
       "     ╱    ⎛                  α⎞      \n",
       "    ╱     ⎜⎛   α ___        ⎞ ⎟      \n",
       "   ╱      ⎜⎜pₓ⋅╲╱ u ⋅(1 - α)⎟ ⎟      \n",
       "α ╱     u⋅⎜⎜────────────────⎟ ⎟      \n",
       "╲╱        ⎝⎝     α⋅p_y      ⎠ ⎠      "
      ]
     },
     "metadata": {},
     "output_type": "display_data"
    }
   ],
   "source": [
    "\n",
    "g1=collect(h_x,u)\n",
    "g1 =factor(g1) \n",
    "display(simplify(g1))\n"
   ]
  }
 ],
 "metadata": {
  "kernelspec": {
   "display_name": "clase_mate",
   "language": "python",
   "name": "python3"
  },
  "language_info": {
   "codemirror_mode": {
    "name": "ipython",
    "version": 3
   },
   "file_extension": ".py",
   "mimetype": "text/x-python",
   "name": "python",
   "nbconvert_exporter": "python",
   "pygments_lexer": "ipython3",
   "version": "3.12.5"
  }
 },
 "nbformat": 4,
 "nbformat_minor": 2
}
